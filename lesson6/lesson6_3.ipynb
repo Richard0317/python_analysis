{
 "cells": [
  {
   "cell_type": "markdown",
   "id": "7a2ea558",
   "metadata": {},
   "source": [
    "### 猜數字遊戲"
   ]
  },
  {
   "cell_type": "code",
   "execution_count": 2,
   "id": "a16bbef3",
   "metadata": {},
   "outputs": [
    {
     "name": "stdout",
     "output_type": "stream",
     "text": [
      "=======猜數字遊戲===========\n",
      "\n",
      "\n",
      "70\n",
      "賓果!猜對了,答案是:70\n",
      "共猜了3次\n"
     ]
    }
   ],
   "source": [
    "import random\n",
    "min = 1\n",
    "max = 99\n",
    "count = 0\n",
    "target = random.randint(min,max)\n",
    "print(\"=======猜數字遊戲===========\\n\\n\")\n",
    "print(target)\n",
    "while(True):\n",
    "    keyin = int(input(f\"猜數字範圍{min}~{max}\"))\n",
    "    count += 1\n",
    "    if (keyin == target):\n",
    "        print(f\"賓果!猜對了,答案是:{target}\")\n",
    "        print(f\"共猜了{count}次\")\n",
    "        break\n"
   ]
  },
  {
   "cell_type": "code",
   "execution_count": 23,
   "id": "5d3aff55",
   "metadata": {},
   "outputs": [
    {
     "name": "stdout",
     "output_type": "stream",
     "text": [
      "=======猜數字遊戲===========\n",
      "\n",
      "\n",
      "48\n",
      "再大一點\n",
      "你已經猜了1次\n",
      "再大一點\n",
      "你已經猜了2次\n",
      "再大一點\n",
      "你已經猜了3次\n",
      "再大一點\n",
      "你已經猜了4次\n",
      "賓果!猜對了,答案是:48\n",
      "共猜了5次\n",
      "猜數字遊戲結束\n"
     ]
    }
   ],
   "source": [
    "import random\n",
    "min = 1\n",
    "max = 99\n",
    "count = 0\n",
    "target = random.randint(min,max)\n",
    "print(\"=======猜數字遊戲===========\\n\\n\")\n",
    "print(target,flush=True)\n",
    "while(True):\n",
    "    keyin = int(input(f\"猜數字範圍{min}~{max}\"))\n",
    "    count += 1\n",
    "    if (keyin == target):\n",
    "        print(f\"賓果!猜對了,答案是:{target}\")\n",
    "        print(f\"共猜了{count}次\")\n",
    "        break\n",
    "    elif (keyin < target):\n",
    "        print(\"再大一點\",flush=True)\n",
    "        min = keyin + 1\n",
    "    else:\n",
    "        print(\"再小一點\",flush=True)\n",
    "        max = keyin - 1\n",
    "    print(f\"你已經猜了{count}次\",flush=True)\n",
    "\n",
    "print(\"猜數字遊戲結束\")"
   ]
  },
  {
   "cell_type": "code",
   "execution_count": 35,
   "id": "01a5fb8c",
   "metadata": {},
   "outputs": [
    {
     "name": "stdout",
     "output_type": "stream",
     "text": [
      "=======猜數字遊戲===========\n",
      "\n",
      "\n",
      "89\n",
      "再大一點\n",
      "你已經猜了1次\n",
      "再大一點\n",
      "你已經猜了2次\n",
      "請輸入提示範圍內的數字\n",
      "賓果!猜對了,答案是:89\n",
      "共猜了4次\n",
      "猜數字遊戲結束\n"
     ]
    }
   ],
   "source": [
    "import random\n",
    "min = 1\n",
    "max = 99\n",
    "count = 0\n",
    "target = random.randint(min,max)\n",
    "print(\"=======猜數字遊戲===========\\n\\n\")\n",
    "print(target,flush=True)\n",
    "while(True):\n",
    "    keyin = int(input(f\"猜數字範圍{min}~{max}\"))\n",
    "    count += 1\n",
    "    if (keyin <= max and keyin >= min):\n",
    "        if (keyin == target):\n",
    "            print(f\"賓果!猜對了,答案是:{target}\")\n",
    "            print(f\"共猜了{count}次\")\n",
    "            break\n",
    "        elif (keyin < target):\n",
    "            print(\"再大一點\",flush=True)\n",
    "            min = keyin + 1\n",
    "        else:\n",
    "            print(\"再小一點\",flush=True)\n",
    "            max = keyin - 1\n",
    "        print(f\"你已經猜了{count}次\",flush=True)\n",
    "    else:\n",
    "        print(\"請輸入提示範圍內的數字\",flush=True)\n",
    "print(\"猜數字遊戲結束\")"
   ]
  },
  {
   "cell_type": "code",
   "execution_count": null,
   "id": "9fbb6af7",
   "metadata": {},
   "outputs": [
    {
     "name": "stdout",
     "output_type": "stream",
     "text": [
      "=======猜數字遊戲===========\n",
      "\n",
      "\n",
      "46\n",
      "再小一點\n",
      "你已經猜了1次\n",
      "再大一點\n",
      "你已經猜了2次\n",
      "請輸入提示範圍內的數字\n",
      "賓果!猜對了,答案是:46\n",
      "共猜了4次\n",
      "猜數字遊戲結束\n"
     ]
    }
   ],
   "source": [
    "import time\n",
    "import random\n",
    "min = 1\n",
    "max = 99\n",
    "count = 0\n",
    "target = random.randint(min,max)\n",
    "print(\"=======猜數字遊戲===========\\n\\n\")\n",
    "print(target)\n",
    "time.sleep(1)\n",
    "while(True):\n",
    "    keyin = int(input(f\"猜數字範圍{min}~{max}\"))\n",
    "    count += 1\n",
    "    if (keyin <= max and keyin >= min):\n",
    "        if (keyin == target):\n",
    "            print(f\"賓果!猜對了,答案是:{target}\")\n",
    "            print(f\"共猜了{count}次\")\n",
    "            break\n",
    "        elif (keyin < target):\n",
    "            print(\"再大一點\")\n",
    "            time.sleep(1)\n",
    "            min = keyin + 1\n",
    "        elif (keyin > target):\n",
    "            print(\"再小一點\")\n",
    "            time.sleep(1)\n",
    "            max = keyin - 1\n",
    "        print(f\"你已經猜了{count}次\")\n",
    "    else:\n",
    "        print(\"請輸入提示範圍內的數字\")\n",
    "        time.sleep(1)\n",
    "print(\"猜數字遊戲結束\")"
   ]
  }
 ],
 "metadata": {
  "kernelspec": {
   "display_name": "base",
   "language": "python",
   "name": "python3"
  },
  "language_info": {
   "codemirror_mode": {
    "name": "ipython",
    "version": 3
   },
   "file_extension": ".py",
   "mimetype": "text/x-python",
   "name": "python",
   "nbconvert_exporter": "python",
   "pygments_lexer": "ipython3",
   "version": "3.12.7"
  }
 },
 "nbformat": 4,
 "nbformat_minor": 5
}
