{
 "cells": [
  {
   "cell_type": "code",
   "execution_count": 1,
   "id": "7551f546",
   "metadata": {},
   "outputs": [
    {
     "name": "stdout",
     "output_type": "stream",
     "text": [
      "10的因數有:1 2 5 10 \n",
      "2的因數有:1 2 \n",
      "10和2的公因數有:1 2 "
     ]
    }
   ],
   "source": [
    "m = int(input(\"請輸入第1個整數\"))\n",
    "n = int(input(\"請輸入第2個整數\"))\n",
    "\n",
    "print(f\"{m}的因數有:\",end='')\n",
    "for i in range(1,m+1):\n",
    "    if m % i == 0:\n",
    "        print(i, end=' ')\n",
    "\n",
    "print(f\"\\n{n}的因數有:\",end='')\n",
    "for j in range(1,n+1):\n",
    "    if n % j == 0:\n",
    "        print(j, end=' ')\n",
    "\n",
    "print(f\"\\n{m}和{n}的公因數有:\",end='')\n",
    "for k in range(1,m+1):\n",
    "    if m % k == 0 and n % k == 0:\n",
    "        print(k, end=' ')"
   ]
  },
  {
   "cell_type": "code",
   "execution_count": 16,
   "id": "d2232d39",
   "metadata": {},
   "outputs": [
    {
     "name": "stdout",
     "output_type": "stream",
     "text": [
      "請輸入2整數,求公因數:\n",
      "54和24的公因數有 1 2 3 6 "
     ]
    }
   ],
   "source": [
    "print(\"請輸入2整數,求公因數:\", end='')\n",
    "m = int(input(\"請輸入第1個整數\"))\n",
    "n = int(input(\"請輸入第2個整數\"))\n",
    "min_val = min(m,n)\n",
    "\n",
    "print(f\"\\n{m}和{n}的公因數有\",end=' ')\n",
    "for i in range(1,min_val + 1):\n",
    "    if m % i == 0 and n % i == 0:\n",
    "        print(i, end=' ')"
   ]
  }
 ],
 "metadata": {
  "kernelspec": {
   "display_name": "base",
   "language": "python",
   "name": "python3"
  },
  "language_info": {
   "codemirror_mode": {
    "name": "ipython",
    "version": 3
   },
   "file_extension": ".py",
   "mimetype": "text/x-python",
   "name": "python",
   "nbconvert_exporter": "python",
   "pygments_lexer": "ipython3",
   "version": "3.12.7"
  }
 },
 "nbformat": 4,
 "nbformat_minor": 5
}
