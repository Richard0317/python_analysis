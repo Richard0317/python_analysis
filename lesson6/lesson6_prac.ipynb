{
 "cells": [
  {
   "cell_type": "code",
   "execution_count": 11,
   "id": "7551f546",
   "metadata": {},
   "outputs": [
    {
     "name": "stdout",
     "output_type": "stream",
     "text": [
      "12的因數有:1 2 3 4 6 12 \n",
      "12的因數有:1 2 3 4 6 12 \n",
      "12和12的公因數有:1 2 3 4 6 12 "
     ]
    }
   ],
   "source": [
    "m = int(input(\"請輸入第1個整數\"))\n",
    "n = int(input(\"請輸入第2個整數\"))\n",
    "\n",
    "print(f\"{m}的因數有:\",end='')\n",
    "for i in range(1,m+1):\n",
    "    if m % i == 0:\n",
    "        print(i, end=' ')\n",
    "\n",
    "print(f\"\\n{n}的因數有:\",end='')\n",
    "for j in range(1,n+1):\n",
    "    if n % j == 0:\n",
    "        print(j, end=' ')\n",
    "\n",
    "print(f\"\\n{m}和{n}的公因數有:\",end='')\n",
    "for k in range(1,m+1):\n",
    "    if m % k == 0 and n % k == 0:\n",
    "        print(k, end=' ')"
   ]
  }
 ],
 "metadata": {
  "kernelspec": {
   "display_name": "base",
   "language": "python",
   "name": "python3"
  },
  "language_info": {
   "codemirror_mode": {
    "name": "ipython",
    "version": 3
   },
   "file_extension": ".py",
   "mimetype": "text/x-python",
   "name": "python",
   "nbconvert_exporter": "python",
   "pygments_lexer": "ipython3",
   "version": "3.12.7"
  }
 },
 "nbformat": 4,
 "nbformat_minor": 5
}
