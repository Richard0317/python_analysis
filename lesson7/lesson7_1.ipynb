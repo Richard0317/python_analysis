{
 "cells": [
  {
   "cell_type": "code",
   "execution_count": null,
   "id": "e0e6f4ae",
   "metadata": {},
   "outputs": [],
   "source": [
    "height:int = int(input(\"請輸入身高公分\"))\n",
    "weight:int = int(input(\"請輸入體重公斤\"))\n",
    "BMI = round(weight/pow(height/100,2),1)"
   ]
  },
  {
   "cell_type": "code",
   "execution_count": 1,
   "id": "1f8a5471",
   "metadata": {},
   "outputs": [
    {
     "name": "stdout",
     "output_type": "stream",
     "text": [
      "身高:173cm\n",
      "體重:75kg\n",
      "BMI:25.1\n",
      "狀態:過重\n"
     ]
    }
   ],
   "source": [
    "height:int = int(input(\"請輸入身高公分\"))\n",
    "weight:int = int(input(\"請輸入體重公斤\"))\n",
    "BMI = round(weight/pow(height/100,2),1)\n",
    "\n",
    "print(f\"身高:{height}\"\"cm\")\n",
    "print(f\"體重:{weight}\"\"kg\")\n",
    "print(f\"BMI:{BMI}\")\n",
    "\n",
    "if BMI < 18.5:\n",
    "    status = \"體重過輕\"\n",
    "elif BMI < 24:\n",
    "    status = \"正常\"\n",
    "elif BMI < 27:\n",
    "    status = \"過重\"\n",
    "elif BMI < 30:\n",
    "    status = \"輕度肥胖\"\n",
    "elif BMI <35:\n",
    "    status = \"中度肥胖\"\n",
    "else:\n",
    "    status = \"重度肥胖\"\n",
    "print(f\"狀態:{status}\")"
   ]
  },
  {
   "cell_type": "code",
   "execution_count": 2,
   "id": "111dd07e",
   "metadata": {},
   "outputs": [
    {
     "data": {
      "text/plain": [
       "<function vars>"
      ]
     },
     "execution_count": 2,
     "metadata": {},
     "output_type": "execute_result"
    }
   ],
   "source": [
    "vars"
   ]
  },
  {
   "cell_type": "code",
   "execution_count": 3,
   "id": "c3559c52",
   "metadata": {},
   "outputs": [
    {
     "data": {
      "text/plain": [
       "{'__name__': '__main__',\n",
       " '__doc__': 'Automatically created module for IPython interactive environment',\n",
       " '__package__': None,\n",
       " '__loader__': None,\n",
       " '__spec__': None,\n",
       " '__builtin__': <module 'builtins' (built-in)>,\n",
       " '__builtins__': <module 'builtins' (built-in)>,\n",
       " '_ih': ['',\n",
       "  'height:int = int(input(\"請輸入身高公分\"))\\nweight:int = int(input(\"請輸入體重公斤\"))\\nBMI = round(weight/pow(height/100,2),1)\\n\\nprint(f\"身高:{height}\"\"cm\")\\nprint(f\"體重:{weight}\"\"kg\")\\nprint(f\"BMI:{BMI}\")\\n\\nif BMI < 18.5:\\n    status = \"體重過輕\"\\nelif BMI < 24:\\n    status = \"正常\"\\nelif BMI < 27:\\n    status = \"過重\"\\nelif BMI < 30:\\n    status = \"輕度肥胖\"\\nelif BMI <35:\\n    status = \"中度肥胖\"\\nelse:\\n    status = \"重度肥胖\"\\nprint(f\"狀態:{status}\")',\n",
       "  'vars',\n",
       "  'vars()'],\n",
       " '_oh': {2: <function vars>},\n",
       " '_dh': [PosixPath('/workspaces/python_analysis/lesson7')],\n",
       " 'In': ['',\n",
       "  'height:int = int(input(\"請輸入身高公分\"))\\nweight:int = int(input(\"請輸入體重公斤\"))\\nBMI = round(weight/pow(height/100,2),1)\\n\\nprint(f\"身高:{height}\"\"cm\")\\nprint(f\"體重:{weight}\"\"kg\")\\nprint(f\"BMI:{BMI}\")\\n\\nif BMI < 18.5:\\n    status = \"體重過輕\"\\nelif BMI < 24:\\n    status = \"正常\"\\nelif BMI < 27:\\n    status = \"過重\"\\nelif BMI < 30:\\n    status = \"輕度肥胖\"\\nelif BMI <35:\\n    status = \"中度肥胖\"\\nelse:\\n    status = \"重度肥胖\"\\nprint(f\"狀態:{status}\")',\n",
       "  'vars',\n",
       "  'vars()'],\n",
       " 'Out': {2: <function vars>},\n",
       " 'get_ipython': <bound method InteractiveShell.get_ipython of <ipykernel.zmqshell.ZMQInteractiveShell object at 0x7f016b68cdd0>>,\n",
       " 'exit': <IPython.core.autocall.ZMQExitAutocall at 0x7f016b68c3b0>,\n",
       " 'quit': <IPython.core.autocall.ZMQExitAutocall at 0x7f016b68c3b0>,\n",
       " 'open': <function _io.open(file, mode='r', buffering=-1, encoding=None, errors=None, newline=None, closefd=True, opener=None)>,\n",
       " '_': <function vars>,\n",
       " '__': '',\n",
       " '___': '',\n",
       " '__vsc_ipynb_file__': '/workspaces/python_analysis/lesson7/lesson7_1.ipynb',\n",
       " '_i': 'vars',\n",
       " '_ii': 'height:int = int(input(\"請輸入身高公分\"))\\nweight:int = int(input(\"請輸入體重公斤\"))\\nBMI = round(weight/pow(height/100,2),1)\\n\\nprint(f\"身高:{height}\"\"cm\")\\nprint(f\"體重:{weight}\"\"kg\")\\nprint(f\"BMI:{BMI}\")\\n\\nif BMI < 18.5:\\n    status = \"體重過輕\"\\nelif BMI < 24:\\n    status = \"正常\"\\nelif BMI < 27:\\n    status = \"過重\"\\nelif BMI < 30:\\n    status = \"輕度肥胖\"\\nelif BMI <35:\\n    status = \"中度肥胖\"\\nelse:\\n    status = \"重度肥胖\"\\nprint(f\"狀態:{status}\")',\n",
       " '_iii': '',\n",
       " '_i1': 'height:int = int(input(\"請輸入身高公分\"))\\nweight:int = int(input(\"請輸入體重公斤\"))\\nBMI = round(weight/pow(height/100,2),1)\\n\\nprint(f\"身高:{height}\"\"cm\")\\nprint(f\"體重:{weight}\"\"kg\")\\nprint(f\"BMI:{BMI}\")\\n\\nif BMI < 18.5:\\n    status = \"體重過輕\"\\nelif BMI < 24:\\n    status = \"正常\"\\nelif BMI < 27:\\n    status = \"過重\"\\nelif BMI < 30:\\n    status = \"輕度肥胖\"\\nelif BMI <35:\\n    status = \"中度肥胖\"\\nelse:\\n    status = \"重度肥胖\"\\nprint(f\"狀態:{status}\")',\n",
       " '__annotations__': {'height': int, 'weight': int},\n",
       " 'height': 173,\n",
       " 'weight': 75,\n",
       " 'BMI': 25.1,\n",
       " 'status': '過重',\n",
       " '_i2': 'vars',\n",
       " '_2': <function vars>,\n",
       " '_i3': 'vars()'}"
      ]
     },
     "execution_count": 3,
     "metadata": {},
     "output_type": "execute_result"
    }
   ],
   "source": [
    "vars()"
   ]
  },
  {
   "cell_type": "code",
   "execution_count": null,
   "id": "30d05d46",
   "metadata": {},
   "outputs": [],
   "source": [
    "height:int = int(input(\"請輸入身高公分\"))\n",
    "weight:int = int(input(\"請輸入體重公斤\"))\n",
    "BMI = round(weight/pow(height/100,2),1)\n",
    "\n",
    "print(f\"身高:{height}\"\"cm\")\n",
    "print(f\"體重:{weight}\"\"kg\")\n",
    "print(f\"BMI:{BMI}\")\n",
    "\n",
    "if BMI < 18.5:\n",
    "    status = \"體重過輕\"\n",
    "elif BMI < 24:\n",
    "    status = \"正常\"\n",
    "elif BMI < 27:\n",
    "    status = \"過重\"\n",
    "elif BMI < 30:\n",
    "    status = \"輕度肥胖\"\n",
    "elif BMI <35:\n",
    "    status = \"中度肥胖\"\n",
    "else:\n",
    "    status = \"重度肥胖\"\n",
    "print(f\"狀態:{status}\")"
   ]
  },
  {
   "cell_type": "code",
   "execution_count": null,
   "id": "8d2aa89b",
   "metadata": {},
   "outputs": [],
   "source": [
    "def main():\n",
    "    height:int = int(input(\"請輸入身高公分\"))\n",
    "    weight:int = int(input(\"請輸入體重公斤\"))\n",
    "    BMI = round(weight/pow(height/100,2),1)\n",
    "\n",
    "    print(f\"身高:{height}\"\"cm\")\n",
    "    print(f\"體重:{weight}\"\"kg\")\n",
    "    print(f\"BMI:{BMI}\")\n",
    "\n",
    "    if BMI < 18.5:\n",
    "        status = \"體重過輕\"\n",
    "    elif BMI < 24:\n",
    "        status = \"正常\"\n",
    "    elif BMI < 27:\n",
    "        status = \"過重\"\n",
    "    elif BMI < 30:\n",
    "        status = \"輕度肥胖\"\n",
    "    elif BMI <35:\n",
    "        status = \"中度肥胖\"\n",
    "    else:\n",
    "        status = \"重度肥胖\"\n",
    "    print(f\"狀態:{status}\")\n",
    "\n",
    "if __name__ == '__main__':\n",
    "    main()"
   ]
  },
  {
   "cell_type": "code",
   "execution_count": null,
   "id": "c5caee4b",
   "metadata": {},
   "outputs": [],
   "source": [
    "def get_status(bmi:float):\n",
    "    if bmi < 18.5:\n",
    "        status = \"體重過輕\"\n",
    "    elif bmi < 24:\n",
    "        status = \"正常\"\n",
    "    elif bmi < 27:\n",
    "        status = \"過重\"\n",
    "    elif bmi < 30:\n",
    "        status = \"輕度肥胖\"\n",
    "    elif bmi <35:\n",
    "        status = \"中度肥胖\"\n",
    "    else:\n",
    "        status = \"重度肥胖\"\n",
    "    print(f\"狀態:{status}\")\n",
    "\n",
    "def main():\n",
    "    height:int = int(input(\"請輸入身高公分\"))\n",
    "    weight:int = int(input(\"請輸入體重公斤\"))\n",
    "    BMI = round(weight/pow(height/100,2),1)\n",
    "\n",
    "    print(f\"身高:{height}\"\"cm\")\n",
    "    print(f\"體重:{weight}\"\"kg\")\n",
    "    print(f\"BMI:{BMI}\")\n",
    "    get_status(BMI)\n",
    " \n",
    "\n",
    "if __name__ == '__main__':\n",
    "    main()"
   ]
  }
 ],
 "metadata": {
  "kernelspec": {
   "display_name": "base",
   "language": "python",
   "name": "python3"
  },
  "language_info": {
   "codemirror_mode": {
    "name": "ipython",
    "version": 3
   },
   "file_extension": ".py",
   "mimetype": "text/x-python",
   "name": "python",
   "nbconvert_exporter": "python",
   "pygments_lexer": "ipython3",
   "version": "3.12.7"
  }
 },
 "nbformat": 4,
 "nbformat_minor": 5
}
