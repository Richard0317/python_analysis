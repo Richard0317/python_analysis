{
 "cells": [
  {
   "cell_type": "code",
   "execution_count": 3,
   "id": "1896df86",
   "metadata": {},
   "outputs": [
    {
     "name": "stdout",
     "output_type": "stream",
     "text": [
      "這是偶數\n"
     ]
    }
   ],
   "source": [
    "dig = int(input(\"請輸入1個數值\"))\n",
    "if dig % 2 == 0:\n",
    "    print(\"這是偶數\")\n",
    "else:\n",
    "    print(\"這是奇數\") "
   ]
  },
  {
   "cell_type": "code",
   "execution_count": 7,
   "id": "aab8dbae",
   "metadata": {},
   "outputs": [
    {
     "name": "stdout",
     "output_type": "stream",
     "text": [
      "發生不知名錯誤!\n",
      "應用程式結束\n"
     ]
    }
   ],
   "source": [
    "try:\n",
    "    dig = int(input(\"請輸入1個數值\"))\n",
    "    if dig % 2 == 0:\n",
    "        print(\"這是偶數\")\n",
    "    else:\n",
    "        print(\"這是奇數\") \n",
    "except:\n",
    "    print(\"發生不知名錯誤!\")\n",
    "print(\"應用程式結束\")"
   ]
  }
 ],
 "metadata": {
  "kernelspec": {
   "display_name": "base",
   "language": "python",
   "name": "python3"
  },
  "language_info": {
   "codemirror_mode": {
    "name": "ipython",
    "version": 3
   },
   "file_extension": ".py",
   "mimetype": "text/x-python",
   "name": "python",
   "nbconvert_exporter": "python",
   "pygments_lexer": "ipython3",
   "version": "3.12.7"
  }
 },
 "nbformat": 4,
 "nbformat_minor": 5
}
