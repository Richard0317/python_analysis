{
 "cells": [
  {
   "cell_type": "markdown",
   "id": "df480c6d",
   "metadata": {},
   "source": [
    "## 計算三角形的角度"
   ]
  },
  {
   "cell_type": "code",
   "execution_count": 2,
   "id": "703491f9",
   "metadata": {},
   "outputs": [
    {
     "name": "stdout",
     "output_type": "stream",
     "text": [
      "對邊: 2.5\n",
      "斜邊: 5.0\n",
      "徑度: 0.5235987755982989\n",
      "角度: 30.0\n"
     ]
    }
   ],
   "source": [
    "import math\n",
    "\n",
    "side = float(input(\"請輸入對邊\"))\n",
    "another_side = float(input(\"請輸入斜邊\"))\n",
    "radians = math.asin(side / another_side)\n",
    "degree = math.degrees(radians)\n",
    "\n",
    "print(\"對邊:\",side)\n",
    "print(\"斜邊:\",another_side)\n",
    "print(\"徑度:\", radians)\n",
    "print(\"角度:\", round(degree,ndigits=2))"
   ]
  },
  {
   "cell_type": "markdown",
   "id": "d08deae7",
   "metadata": {},
   "source": [
    "### tuple"
   ]
  },
  {
   "cell_type": "code",
   "execution_count": 7,
   "id": "a295b6b5",
   "metadata": {},
   "outputs": [
    {
     "data": {
      "text/plain": [
       "(56, 79)"
      ]
     },
     "execution_count": 7,
     "metadata": {},
     "output_type": "execute_result"
    }
   ],
   "source": [
    "56,79"
   ]
  },
  {
   "cell_type": "code",
   "execution_count": 8,
   "id": "87ccf6c8",
   "metadata": {},
   "outputs": [
    {
     "data": {
      "text/plain": [
       "(56, 79, 68)"
      ]
     },
     "execution_count": 8,
     "metadata": {},
     "output_type": "execute_result"
    }
   ],
   "source": [
    "(56,79,68)"
   ]
  },
  {
   "cell_type": "code",
   "execution_count": 9,
   "id": "50674249",
   "metadata": {},
   "outputs": [
    {
     "data": {
      "text/plain": [
       "(56, 79, 68)"
      ]
     },
     "execution_count": 9,
     "metadata": {},
     "output_type": "execute_result"
    }
   ],
   "source": [
    "56,79,68"
   ]
  },
  {
   "cell_type": "markdown",
   "id": "c253930e",
   "metadata": {},
   "source": [
    "## 大學的統計學,標準差"
   ]
  },
  {
   "cell_type": "code",
   "execution_count": 6,
   "id": "86cdec91",
   "metadata": {},
   "outputs": [
    {
     "data": {
      "text/plain": [
       "67.66666666666667"
      ]
     },
     "execution_count": 6,
     "metadata": {},
     "output_type": "execute_result"
    }
   ],
   "source": [
    "import statistics\n",
    "statistics.mean((56,79,68))"
   ]
  },
  {
   "cell_type": "code",
   "execution_count": 13,
   "id": "3de83771",
   "metadata": {},
   "outputs": [
    {
     "data": {
      "text/plain": [
       "11.532562594670797"
      ]
     },
     "execution_count": 13,
     "metadata": {},
     "output_type": "execute_result"
    }
   ],
   "source": [
    "import statistics\n",
    "std = statistics.stdev((56,79,69))\n",
    "std"
   ]
  },
  {
   "cell_type": "code",
   "execution_count": 4,
   "id": "0af9ebba",
   "metadata": {},
   "outputs": [
    {
     "name": "stdout",
     "output_type": "stream",
     "text": [
      "25.0 27.0 29.0\n",
      "平均:27.00\n",
      "標準差:2.00\n"
     ]
    }
   ],
   "source": [
    "import statistics\n",
    "\n",
    "n1 = float(input(\"請輸入第1個數:\"))\n",
    "n2 = float(input(\"請輸入第2個數:\"))\n",
    "n3 = float(input(\"請輸入第3個數:\"))\n",
    "average = statistics.mean((n1, n2, n3))\n",
    "std = statistics.stdev((n1, n2, n3))\n",
    "print(n1, n2, n3)\n",
    "print(f\"平均:{average:.2f}\")\n",
    "print(f\"標準差:{std:.2f}\")"
   ]
  }
 ],
 "metadata": {
  "kernelspec": {
   "display_name": "base",
   "language": "python",
   "name": "python3"
  },
  "language_info": {
   "codemirror_mode": {
    "name": "ipython",
    "version": 3
   },
   "file_extension": ".py",
   "mimetype": "text/x-python",
   "name": "python",
   "nbconvert_exporter": "python",
   "pygments_lexer": "ipython3",
   "version": "3.12.7"
  }
 },
 "nbformat": 4,
 "nbformat_minor": 5
}
