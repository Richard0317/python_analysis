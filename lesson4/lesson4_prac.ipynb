{
 "cells": [
  {
   "cell_type": "code",
   "execution_count": 3,
   "id": "1896df86",
   "metadata": {},
   "outputs": [
    {
     "name": "stdout",
     "output_type": "stream",
     "text": [
      "這是偶數\n"
     ]
    }
   ],
   "source": [
    "dig = int(input(\"請輸入1個數值\"))\n",
    "if dig % 2 == 0:\n",
    "    print(\"這是偶數\")\n",
    "else:\n",
    "    print(\"這是奇數\") "
   ]
  },
  {
   "cell_type": "code",
   "execution_count": 18,
   "id": "aab8dbae",
   "metadata": {},
   "outputs": [
    {
     "name": "stdout",
     "output_type": "stream",
     "text": [
      "22是偶數\n",
      "應用程式結束\n"
     ]
    }
   ],
   "source": [
    "try:\n",
    "    dig = input(\"請輸入1個數值\")\n",
    "    int_dig = int(dig)\n",
    "    if int_dig % 2 == 0:\n",
    "        print(f\"{int_dig}是偶數\")\n",
    "    else:\n",
    "        print(f\"{int_dig}是奇數\") \n",
    "except:\n",
    "    print(str(dig),\"發生不知名錯誤!\")\n",
    "print(\"應用程式結束\")"
   ]
  }
 ],
 "metadata": {
  "kernelspec": {
   "display_name": "base",
   "language": "python",
   "name": "python3"
  },
  "language_info": {
   "codemirror_mode": {
    "name": "ipython",
    "version": 3
   },
   "file_extension": ".py",
   "mimetype": "text/x-python",
   "name": "python",
   "nbconvert_exporter": "python",
   "pygments_lexer": "ipython3",
   "version": "3.12.7"
  }
 },
 "nbformat": 4,
 "nbformat_minor": 5
}
