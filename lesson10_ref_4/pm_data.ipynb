{
 "cells": [
  {
   "cell_type": "code",
   "execution_count": 3,
   "id": "8db68d66",
   "metadata": {},
   "outputs": [
    {
     "name": "stdout",
     "output_type": "stream",
     "text": [
      "大城 - 85\n",
      "埔里 - 80\n",
      "馬祖 - 75\n",
      "金門 - 70\n",
      "馬公 - 65\n",
      "關山 - 60\n",
      "麥寮 - 55\n",
      "富貴角 - 50\n",
      "大城 - 45\n",
      "彰化（員林） - 40\n"
     ]
    }
   ],
   "source": [
    "import csv\n",
    "\n",
    "data = []\n",
    "\n",
    "with open('aqx_p_488_rev.txt', newline='', encoding='utf-8') as f:\n",
    "    reader = csv.DictReader(f)\n",
    "    for row in reader:\n",
    "        try:\n",
    "            row['pm2.5'] = int(row['pm2.5'])  # 將薪資轉成整數\n",
    "            data.append(row)\n",
    "        except ValueError:\n",
    "            continue  # 若有無效資料則略過\n",
    "\n",
    "# 取出薪資最低的 10 筆\n",
    "lowest10 = sorted(data, key=lambda x: x['pm2.5'],reverse=True)[:10]\n",
    "\n",
    "# 印出結果\n",
    "for item in lowest10:\n",
    "    print(f\"{item['sitename']} - {item['pm2.5']}\")"
   ]
  },
  {
   "cell_type": "code",
   "execution_count": null,
   "id": "94621a64",
   "metadata": {},
   "outputs": [],
   "source": [
    "import csv\n",
    "\n",
    "target_column = 'pm2.5'\n",
    "requ_val = 10\n",
    "filtered_rows = []\n",
    "results = []\n",
    "\n",
    "with open('aqx_p_488.csv', newline='', encoding='utf-8') as csvfile:\n",
    "    reader = csv.DictReader(csvfile)\n",
    "    first_column_name = reader.fieldnames[0]  # 取得第一欄欄位名稱\n",
    "    for row in reader:\n",
    "        try:\n",
    "            val = int(row[target_column])\n",
    "            if val < requ_val:\n",
    "                filtered_rows.append((row[first_column_name], val))\n",
    "        except (ValueError, KeyError):\n",
    "            pass\n",
    "        try:\n",
    "            row['pm2.5'] = int(row['pm2.5']) #多轉換成int item才有值\n",
    "            results.append({\n",
    "                'sitename': row['sitename'],\n",
    "                'pm2.5': row['pm2.5']\n",
    "            })\n",
    "        except (ValueError, KeyError):\n",
    "            continue  # 忽略格式錯誤或欄位缺失\n",
    "\n",
    "high_10 = sorted(results, key=lambda x: x['pm2.5'], reverse=True)[:10]\n",
    "\n",
    "#for first_col, val in filtered_rows:\n",
    "    #print(f\"{first_col}, {target_column}: {val}\")\n",
    "\n",
    "for item in high_10:\n",
    "    print(f\"{item['sitename']} - {item['pm2.5']}\")"
   ]
  },
  {
   "cell_type": "markdown",
   "id": "b4f38f98",
   "metadata": {},
   "source": [
    "# csv檔有空格欄位要如何避免"
   ]
  }
 ],
 "metadata": {
  "kernelspec": {
   "display_name": "base",
   "language": "python",
   "name": "python3"
  },
  "language_info": {
   "codemirror_mode": {
    "name": "ipython",
    "version": 3
   },
   "file_extension": ".py",
   "mimetype": "text/x-python",
   "name": "python",
   "nbconvert_exporter": "python",
   "pygments_lexer": "ipython3",
   "version": "3.12.7"
  }
 },
 "nbformat": 4,
 "nbformat_minor": 5
}
