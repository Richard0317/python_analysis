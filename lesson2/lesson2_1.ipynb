{
  "cells": [
    {
      "cell_type": "markdown",
      "metadata": {
        "colab_type": "text",
        "id": "view-in-github"
      },
      "source": [
        "<a href=\"https://colab.research.google.com/github/Richard0317/python_analysis/blob/main/lesson2_1.ipynb\" target=\"_parent\"><img src=\"https://colab.research.google.com/assets/colab-badge.svg\" alt=\"Open In Colab\"/></a>"
      ]
    },
    {
      "cell_type": "code",
      "execution_count": 1,
      "metadata": {
        "colab": {
          "base_uri": "https://localhost:8080/",
          "height": 35
        },
        "id": "NvLMXKPiyGP0",
        "outputId": "531837be-6a37-4c10-ee57-c992a9766300"
      },
      "outputs": [
        {
          "data": {
            "application/vnd.google.colaboratory.intrinsic+json": {
              "type": "string"
            },
            "text/plain": [
              "'這是字串'"
            ]
          },
          "execution_count": 1,
          "metadata": {},
          "output_type": "execute_result"
        }
      ],
      "source": [
        "\"這是字串\""
      ]
    },
    {
      "cell_type": "code",
      "execution_count": 2,
      "metadata": {
        "colab": {
          "base_uri": "https://localhost:8080/",
          "height": 35
        },
        "id": "siK4rJmPyRzW",
        "outputId": "a6132e73-e768-405a-acb7-12796b375a17"
      },
      "outputs": [
        {
          "data": {
            "application/vnd.google.colaboratory.intrinsic+json": {
              "type": "string"
            },
            "text/plain": [
              "'這也是字串'"
            ]
          },
          "execution_count": 2,
          "metadata": {},
          "output_type": "execute_result"
        }
      ],
      "source": [
        "'這也是字串'"
      ]
    },
    {
      "cell_type": "code",
      "execution_count": 6,
      "metadata": {
        "colab": {
          "base_uri": "https://localhost:8080/",
          "height": 35
        },
        "id": "aKszlCKoyVXt",
        "outputId": "2199d427-4d78-4807-8dd3-77487c44839b"
      },
      "outputs": [
        {
          "data": {
            "application/vnd.google.colaboratory.intrinsic+json": {
              "type": "string"
            },
            "text/plain": [
              "'這是第1個數值:10\\n這是第2個數值20.0'"
            ]
          },
          "execution_count": 6,
          "metadata": {},
          "output_type": "execute_result"
        }
      ],
      "source": [
        "'這是第1個數值:' + str(10) + \"\\n這是第2個數值\" + str(20.0)"
      ]
    },
    {
      "cell_type": "code",
      "execution_count": 8,
      "metadata": {
        "colab": {
          "base_uri": "https://localhost:8080/"
        },
        "id": "reyXi21uyt5t",
        "outputId": "93badcc4-5e5a-4ee4-86b2-8ae528e864d8"
      },
      "outputs": [
        {
          "name": "stdout",
          "output_type": "stream",
          "text": [
            "這是第1個數值:10\n",
            "這是第2個數值20.0\n"
          ]
        }
      ],
      "source": [
        "print('這是第1個數值:' + str(10) + \"\\n這是第2個數值\" + str(20.0))"
      ]
    },
    {
      "cell_type": "code",
      "execution_count": 10,
      "metadata": {
        "colab": {
          "base_uri": "https://localhost:8080/"
        },
        "id": "UMCw1fMB0y57",
        "outputId": "0707b78f-d424-434b-8606-1bdf108ebf48"
      },
      "outputs": [
        {
          "name": "stdout",
          "output_type": "stream",
          "text": [
            "這是第1個數值: 10 \n",
            "這是第2個數值: 20.0\n"
          ]
        }
      ],
      "source": [
        "print('這是第1個數值:',str(10),\"\\n這是第2個數值:\",str(20.0))"
      ]
    },
    {
      "cell_type": "markdown",
      "metadata": {
        "id": "fhdNjnhm1CeS"
      },
      "source": [
        "### 字串插補"
      ]
    },
    {
      "cell_type": "code",
      "execution_count": 13,
      "metadata": {
        "colab": {
          "base_uri": "https://localhost:8080/"
        },
        "id": "thBWKkyW1FwK",
        "outputId": "0c29a8ab-bc64-4906-f137-34994b17fb4d"
      },
      "outputs": [
        {
          "name": "stdout",
          "output_type": "stream",
          "text": [
            "這是第1個數值:10\n",
            "這是第2個數值:20.0\n"
          ]
        }
      ],
      "source": [
        "print(f\"這是第1個數值:{10}\\n這是第2個數值:{20.0}\")"
      ]
    },
    {
      "cell_type": "code",
      "execution_count": 14,
      "metadata": {
        "colab": {
          "base_uri": "https://localhost:8080/"
        },
        "id": "E1SGNlCH4OTu",
        "outputId": "7c61ae84-de96-4089-d177-a2e20ebe42a7"
      },
      "outputs": [
        {
          "name": "stdout",
          "output_type": "stream",
          "text": [
            "Python 3.11.12\n"
          ]
        }
      ],
      "source": [
        "!python --version"
      ]
    }
  ],
  "metadata": {
    "colab": {
      "authorship_tag": "ABX9TyPFtOo1+m9WYms/lbM4e/kC",
      "include_colab_link": true,
      "provenance": []
    },
    "kernelspec": {
      "display_name": "base",
      "language": "python",
      "name": "python3"
    },
    "language_info": {
      "name": "python",
      "version": "3.12.7"
    }
  },
  "nbformat": 4,
  "nbformat_minor": 0
}
