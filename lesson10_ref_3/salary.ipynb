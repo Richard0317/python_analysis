{
 "cells": [
  {
   "cell_type": "markdown",
   "id": "e2e87974",
   "metadata": {},
   "source": [
    "- name,department,salary\n",
    "- Alice,Engineering,75000\n",
    "- Bob,HR,50000\n",
    "- Charlie,Engineering,82000\n",
    "- David,Marketing,60000\n",
    "- Eve,Engineering,91000"
   ]
  },
  {
   "cell_type": "code",
   "execution_count": 4,
   "id": "1692d45d",
   "metadata": {},
   "outputs": [
    {
     "name": "stdout",
     "output_type": "stream",
     "text": [
      "personnels.csv 已成功儲存\n"
     ]
    }
   ],
   "source": [
    "import csv\n",
    "\n",
    "personnels = [\n",
    "    {'name': 'Alice', 'department': 'Engineering', 'salary': '75000'},\n",
    "    {'name': 'Bob', 'department': 'HR', 'salary': '50000'},\n",
    "    {'name': 'Charlie', 'department': 'Engineering', 'salary': '82000'}\n",
    "]\n",
    "\n",
    "# 取得欄位名稱（CSV 標題）\n",
    "fieldnames = personnels[0].keys()\n",
    "\n",
    "with open('personnels.csv', mode='w', encoding='utf-8', newline='') as file:\n",
    "    writer = csv.DictWriter(file, fieldnames=fieldnames)\n",
    "    writer.writeheader()       # 寫入欄位名稱\n",
    "    writer.writerows(personnels) # 寫入多筆資料列\n",
    "\n",
    "print(\"personnels.csv 已成功儲存\")"
   ]
  },
  {
   "cell_type": "code",
   "execution_count": 6,
   "id": "3fef4ca9",
   "metadata": {},
   "outputs": [
    {
     "name": "stdout",
     "output_type": "stream",
     "text": [
      "Bob - HR - 50000\n",
      "Alice - Engineering - 75000\n",
      "Charlie - Engineering - 82000\n"
     ]
    }
   ],
   "source": [
    "import csv\n",
    "\n",
    "data = []\n",
    "\n",
    "with open('personnels.csv', newline='', encoding='utf-8') as f:\n",
    "    reader = csv.DictReader(f)\n",
    "    for row in reader:\n",
    "        try:\n",
    "            row['salary'] = int(row['salary'])  # 將薪資轉成整數\n",
    "            data.append(row)\n",
    "        except ValueError:\n",
    "            continue  # 若有無效資料則略過\n",
    "\n",
    "# 取出薪資最低的 10 筆\n",
    "lowest10 = sorted(data, key=lambda x: x['salary'])[:10]\n",
    "\n",
    "# 印出結果\n",
    "for item in lowest10:\n",
    "    print(f\"{item['name']} - {item['department']} - {item['salary']}\")"
   ]
  }
 ],
 "metadata": {
  "kernelspec": {
   "display_name": "base",
   "language": "python",
   "name": "python3"
  },
  "language_info": {
   "codemirror_mode": {
    "name": "ipython",
    "version": 3
   },
   "file_extension": ".py",
   "mimetype": "text/x-python",
   "name": "python",
   "nbconvert_exporter": "python",
   "pygments_lexer": "ipython3",
   "version": "3.12.7"
  }
 },
 "nbformat": 4,
 "nbformat_minor": 5
}
