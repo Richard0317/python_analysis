{
 "cells": [
  {
   "cell_type": "code",
   "execution_count": 2,
   "id": "f25a1b78",
   "metadata": {},
   "outputs": [
    {
     "data": {
      "text/plain": [
       "8"
      ]
     },
     "execution_count": 2,
     "metadata": {},
     "output_type": "execute_result"
    }
   ],
   "source": [
    "2 ** 3"
   ]
  },
  {
   "cell_type": "code",
   "execution_count": 48,
   "id": "685f8e05",
   "metadata": {},
   "outputs": [
    {
     "name": "stdout",
     "output_type": "stream",
     "text": [
      "50.6\n"
     ]
    }
   ],
   "source": [
    "weight:float = float(input(\"請輸入體重(kg)\"))\n",
    "weight_rnd = round(weight,1)\n",
    "print(weight_rnd)"
   ]
  },
  {
   "cell_type": "code",
   "execution_count": 51,
   "id": "4a378a2e",
   "metadata": {},
   "outputs": [
    {
     "name": "stdout",
     "output_type": "stream",
     "text": [
      "你的身高是:155公分,體重是:52公斤\n",
      "BMI為:21.6\n",
      "體重正常\n"
     ]
    }
   ],
   "source": [
    "height:float = round(float(input(\"請輸入身高(cm)\")))\n",
    "weight:float = round(float(input(\"請輸入體重(kg)\")))\n",
    "\n",
    "print(f\"你的身高是:{height}公分,體重是:{weight}公斤\")\n",
    "\n",
    "height_m = height/100\n",
    "BMI:float = round(weight/ (height_m ** 2),1)\n",
    "print(f\"BMI為:{BMI}\")\n",
    "\n",
    "if BMI < 18.5:\n",
    "    print(\"體重過輕\")\n",
    "elif BMI >= 18.5 and BMI < 24:\n",
    "    print(\"體重正常\")\n",
    "elif BMI >= 24 and BMI < 27:\n",
    "    print(\"體重過重\")\n",
    "elif BMI >= 27 and BMI < 30:\n",
    "    print(\"輕度肥胖\")\n",
    "elif BMI >= 30 and BMI < 35:\n",
    "    print(\"中度肥胖\")\n",
    "else:\n",
    "    print(\"重度肥胖\")\n"
   ]
  }
 ],
 "metadata": {
  "kernelspec": {
   "display_name": "base",
   "language": "python",
   "name": "python3"
  },
  "language_info": {
   "codemirror_mode": {
    "name": "ipython",
    "version": 3
   },
   "file_extension": ".py",
   "mimetype": "text/x-python",
   "name": "python",
   "nbconvert_exporter": "python",
   "pygments_lexer": "ipython3",
   "version": "3.12.7"
  }
 },
 "nbformat": 4,
 "nbformat_minor": 5
}
