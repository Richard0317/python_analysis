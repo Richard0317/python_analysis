{
 "cells": [
  {
   "cell_type": "markdown",
   "id": "f39b9ad1",
   "metadata": {},
   "source": [
    "### range(10)會傳出串列資料"
   ]
  },
  {
   "cell_type": "code",
   "execution_count": 10,
   "id": "51c6c433",
   "metadata": {},
   "outputs": [
    {
     "data": {
      "text/plain": [
       "type"
      ]
     },
     "execution_count": 10,
     "metadata": {},
     "output_type": "execute_result"
    }
   ],
   "source": [
    "range(10)\n",
    "type(range)"
   ]
  },
  {
   "cell_type": "code",
   "execution_count": 1,
   "id": "f4f70635",
   "metadata": {},
   "outputs": [
    {
     "data": {
      "text/plain": [
       "range(0, 5)"
      ]
     },
     "execution_count": 1,
     "metadata": {},
     "output_type": "execute_result"
    }
   ],
   "source": [
    "zero_to_nine:range = range(5)\n",
    "zero_to_nine"
   ]
  },
  {
   "cell_type": "code",
   "execution_count": 2,
   "id": "48e55d0c",
   "metadata": {},
   "outputs": [
    {
     "name": "stdout",
     "output_type": "stream",
     "text": [
      "0\n",
      "1\n",
      "2\n",
      "3\n",
      "4\n"
     ]
    }
   ],
   "source": [
    "for ele in range(5):\n",
    "    print(ele)"
   ]
  },
  {
   "cell_type": "code",
   "execution_count": 3,
   "id": "f4dad9dd",
   "metadata": {},
   "outputs": [
    {
     "name": "stdout",
     "output_type": "stream",
     "text": [
      "1\n",
      "2\n",
      "3\n",
      "4\n"
     ]
    }
   ],
   "source": [
    "for ele in range(1, 5):\n",
    "    print(ele)"
   ]
  },
  {
   "cell_type": "code",
   "execution_count": 4,
   "id": "f9deac42",
   "metadata": {},
   "outputs": [
    {
     "name": "stdout",
     "output_type": "stream",
     "text": [
      "1\n",
      "3\n",
      "5\n",
      "7\n",
      "9\n"
     ]
    }
   ],
   "source": [
    "for ele in range(1, 11, 2):\n",
    "    print(ele)"
   ]
  },
  {
   "cell_type": "code",
   "execution_count": null,
   "id": "8178c077",
   "metadata": {},
   "outputs": [
    {
     "data": {
      "text/plain": [
       "1"
      ]
     },
     "execution_count": 8,
     "metadata": {},
     "output_type": "execute_result"
    }
   ],
   "source": [
    "#1~10\n",
    "total = 0\n",
    "total += 1\n",
    "total += 2\n",
    "total += 3\n",
    "total += 4\n",
    "total += 5\n",
    "total += 6\n",
    "total += 7\n",
    "total += 8\n",
    "total += 9\n",
    "total += 10"
   ]
  },
  {
   "cell_type": "code",
   "execution_count": 13,
   "id": "4f04cf1a",
   "metadata": {},
   "outputs": [
    {
     "name": "stdout",
     "output_type": "stream",
     "text": [
      "55\n"
     ]
    }
   ],
   "source": [
    "total = 0\n",
    "for i in range(11):\n",
    "    total += i\n",
    "print(total)"
   ]
  },
  {
   "cell_type": "markdown",
   "id": "32605b0c",
   "metadata": {},
   "source": [
    "### 如果明確知道執行的次數，請使用for in 迴圈"
   ]
  },
  {
   "cell_type": "code",
   "execution_count": 14,
   "id": "7a9812c1",
   "metadata": {},
   "outputs": [
    {
     "name": "stdout",
     "output_type": "stream",
     "text": [
      "5050\n"
     ]
    }
   ],
   "source": [
    "total = 0\n",
    "for i in range(1,101):\n",
    "    total += i\n",
    "print(total)"
   ]
  },
  {
   "cell_type": "markdown",
   "id": "9948ec82",
   "metadata": {},
   "source": [
    "### _ 省略運算子"
   ]
  },
  {
   "cell_type": "code",
   "execution_count": 15,
   "id": "1ba354b8",
   "metadata": {},
   "outputs": [
    {
     "name": "stdout",
     "output_type": "stream",
     "text": [
      "很重要\n",
      "很重要\n",
      "很重要\n"
     ]
    }
   ],
   "source": [
    "for _ in range(3):\n",
    "    print(\"很重要\")"
   ]
  },
  {
   "cell_type": "markdown",
   "id": "d3da02c1",
   "metadata": {},
   "source": [
    "### 字串,也是Sequence"
   ]
  },
  {
   "cell_type": "code",
   "execution_count": 19,
   "id": "f534684f",
   "metadata": {},
   "outputs": [
    {
     "name": "stdout",
     "output_type": "stream",
     "text": [
      "很\n",
      "重\n",
      "要\n"
     ]
    }
   ],
   "source": [
    "for word in '很重要':\n",
    "    print(word)"
   ]
  }
 ],
 "metadata": {
  "kernelspec": {
   "display_name": "base",
   "language": "python",
   "name": "python3"
  },
  "language_info": {
   "codemirror_mode": {
    "name": "ipython",
    "version": 3
   },
   "file_extension": ".py",
   "mimetype": "text/x-python",
   "name": "python",
   "nbconvert_exporter": "python",
   "pygments_lexer": "ipython3",
   "version": "3.12.7"
  }
 },
 "nbformat": 4,
 "nbformat_minor": 5
}
