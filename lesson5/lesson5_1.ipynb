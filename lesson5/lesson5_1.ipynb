{
 "cells": [
  {
   "cell_type": "markdown",
   "id": "e17e20a1",
   "metadata": {},
   "source": [
    "### 巢狀判斷\n",
    "- 貓\n",
    "- 熊\n",
    "- 蜥蜴\n",
    "- 人類"
   ]
  },
  {
   "cell_type": "code",
   "execution_count": 2,
   "id": "ca3f3265",
   "metadata": {},
   "outputs": [
    {
     "name": "stdout",
     "output_type": "stream",
     "text": [
      "熊\n"
     ]
    }
   ],
   "source": [
    "furry:bool = True\n",
    "small = False\n",
    "if furry:\n",
    "    if small:\n",
    "        print(\"貓\")\n",
    "    else:\n",
    "        print(\"熊\")\n",
    "else:\n",
    "    if small:\n",
    "        print(\"小蜥蜴\")\n",
    "    else:\n",
    "        print(\"人類\")"
   ]
  },
  {
   "cell_type": "code",
   "execution_count": null,
   "id": "3646d066",
   "metadata": {},
   "outputs": [
    {
     "name": "stdout",
     "output_type": "stream",
     "text": [
      "學生等級:及格\n"
     ]
    }
   ],
   "source": [
    "score:int = int(input(\"請輸入學生分數\"))\n",
    "if score >= 80:\n",
    "    grade:str = '優'\n",
    "else:\n",
    "    # 小於80\n",
    "    if score >= 60:\n",
    "    # 小於80同時大於等於60\n",
    "        grade:str = '及格'\n",
    "    else:\n",
    "        grade:str = '不及格'\n",
    "print(f\"學生等級:{grade}\")"
   ]
  },
  {
   "cell_type": "markdown",
   "id": "5194145e",
   "metadata": {},
   "source": [
    "### 多項選擇"
   ]
  },
  {
   "cell_type": "code",
   "execution_count": 10,
   "id": "e6dcf1a2",
   "metadata": {},
   "outputs": [
    {
     "name": "stdout",
     "output_type": "stream",
     "text": [
      "學生等級:優\n"
     ]
    }
   ],
   "source": [
    "score:int = int(input(\"請輸入學生分數\"))\n",
    "if score >= 80:\n",
    "    grade:str = '優'\n",
    "elif score >= 60:\n",
    "    grade:str = '及格'\n",
    "else:\n",
    "    grade:str = '不及格'\n",
    "print(f\"學生等級:{grade}\")"
   ]
  },
  {
   "cell_type": "markdown",
   "id": "4d282407",
   "metadata": {},
   "source": [
    "- 90(含)~100分為「優」\n",
    "- 80(含)~89分為「甲」\n",
    "- 70(含)~79分為「乙」\n",
    "- 60(含)~69分為「丙」\n",
    "- 0(含)~59分為「丁」"
   ]
  },
  {
   "cell_type": "code",
   "execution_count": 14,
   "id": "79f6cbc3",
   "metadata": {},
   "outputs": [
    {
     "name": "stdout",
     "output_type": "stream",
     "text": [
      "學生等級:乙\n"
     ]
    }
   ],
   "source": [
    "score:int = int(input(\"請輸入學生分數\"))\n",
    "if score >= 90:\n",
    "    grade:str = '優'\n",
    "elif score >= 80:\n",
    "    grade:str = '甲'\n",
    "elif score >= 70:\n",
    "    grade:str = '乙'\n",
    "elif score >= 60:\n",
    "    grade:str = '丙'\n",
    "else:\n",
    "    grade:str = '丁'\n",
    "print(f\"學生等級:{grade}\")"
   ]
  },
  {
   "cell_type": "markdown",
   "id": "f849bb01",
   "metadata": {},
   "source": [
    "### 輸入顧客購買金額，若金額在\n",
    "- 100000元打8折.\n",
    "- 50000打85折.\n",
    "- 30000打9折.\n",
    "- 10000打95折."
   ]
  },
  {
   "cell_type": "code",
   "execution_count": null,
   "id": "e20ab7e4",
   "metadata": {},
   "outputs": [
    {
     "name": "stdout",
     "output_type": "stream",
     "text": [
      "購買金額:29999.9\n",
      "實付金額是:27000\n"
     ]
    }
   ],
   "source": [
    "money:float = float(input(\"請輸入購買金額:\"))\n",
    "money_int = round(money)\n",
    "if money_int < 10000:\n",
    "    pay_money = money_int\n",
    "elif money_int >= 10000 and money_int <30000:\n",
    "    pay_money = money_int *0.95\n",
    "elif money_int >= 30000 and money_int < 50000:\n",
    "    pay_money = money_int *0.9\n",
    "elif money_int >= 50000 and money_int < 100000:\n",
    "    pay_money = money_int *0.85\n",
    "else:\n",
    "    pay_money = money_int *0.8\n",
    "print(f'購買金額是:{money}')\n",
    "print(f'實付金額是:{round(pay_money)}')"
   ]
  },
  {
   "cell_type": "markdown",
   "id": "8bc13b64",
   "metadata": {},
   "source": [
    "### 巢狀判斷"
   ]
  },
  {
   "cell_type": "code",
   "execution_count": 25,
   "id": "eba97736",
   "metadata": {},
   "outputs": [
    {
     "name": "stdout",
     "output_type": "stream",
     "text": [
      "獎金:0\n"
     ]
    }
   ],
   "source": [
    "# 國文100同時數學100,獎金1000\n",
    "# 只有一科100分,獎金500\n",
    "chinese = int(input(\"請輸入國文分數\"))\n",
    "math = int(input(\"請輸入數學分數\"))\n",
    "#巢狀判斷\n",
    "bonus = 0\n",
    "if chinese == 100:\n",
    "    if math == 100:\n",
    "        bonus = 1000\n",
    "    else:\n",
    "        bonus = 500\n",
    "elif math == 100:\n",
    "    bonus = 500\n",
    "\n",
    "print(f\"獎金:{bonus}\")"
   ]
  },
  {
   "cell_type": "markdown",
   "id": "8598dea5",
   "metadata": {},
   "source": [
    "### 邏輯運算子"
   ]
  },
  {
   "cell_type": "code",
   "execution_count": null,
   "id": "e0fb53e5",
   "metadata": {},
   "outputs": [
    {
     "name": "stdout",
     "output_type": "stream",
     "text": [
      "獎金:0\n"
     ]
    }
   ],
   "source": [
    "# 國文100同時數學100,獎金1000\n",
    "# 只有一科100分,獎金500\n",
    "chinese = int(input(\"請輸入國文分數\"))\n",
    "math = int(input(\"請輸入數學分數\"))\n",
    "#邏輯運算子\n",
    "bonus = 0\n",
    "if chinese == 100 and math == 100:\n",
    "    bonus = 1000\n",
    "elif chinese == 100 or math == 100:\n",
    "    bonus = 500\n",
    "print(f\"獎金:{bonus}\")"
   ]
  },
  {
   "cell_type": "markdown",
   "id": "7437a11a",
   "metadata": {},
   "source": [
    "### else至少執行1個"
   ]
  },
  {
   "cell_type": "code",
   "execution_count": 44,
   "id": "15619320",
   "metadata": {},
   "outputs": [
    {
     "name": "stdout",
     "output_type": "stream",
     "text": [
      "獎金:0\n"
     ]
    }
   ],
   "source": [
    "# 國文100同時數學100,獎金1000\n",
    "# 只有一科100分,獎金500\n",
    "chinese = int(input(\"請輸入國文分數\"))\n",
    "math = int(input(\"請輸入數學分數\"))\n",
    "#邏輯運算子\n",
    "#bonus = 0\n",
    "if chinese == 100 and math == 100:\n",
    "    bonus = 1000\n",
    "elif chinese == 100 or math == 100:\n",
    "    bonus = 500\n",
    "else:\n",
    "    bonus = 0\n",
    "print(f\"獎金:{bonus}\")"
   ]
  },
  {
   "cell_type": "markdown",
   "id": "7eba8ed3",
   "metadata": {},
   "source": [
    "### not\n",
    "True區塊和False區塊,對調"
   ]
  },
  {
   "cell_type": "code",
   "execution_count": null,
   "id": "5f6386c8",
   "metadata": {},
   "outputs": [],
   "source": [
    "age = int(input(\"請輸入age:\"))\n",
    "if age < 18:\n",
    "    print(\"不可以考駕照\")\n",
    "else:\n",
    "    print(\"可以考駕照\")"
   ]
  },
  {
   "cell_type": "code",
   "execution_count": 45,
   "id": "128e2dfa",
   "metadata": {},
   "outputs": [
    {
     "name": "stdout",
     "output_type": "stream",
     "text": [
      "可以考駕照\n"
     ]
    }
   ],
   "source": [
    "age = int(input(\"請輸入age:\"))\n",
    "if not age < 18:\n",
    "    print(\"可以考駕照\")\n",
    "else:\n",
    "    print(\"不可以考駕照\")"
   ]
  }
 ],
 "metadata": {
  "kernelspec": {
   "display_name": "base",
   "language": "python",
   "name": "python3"
  },
  "language_info": {
   "codemirror_mode": {
    "name": "ipython",
    "version": 3
   },
   "file_extension": ".py",
   "mimetype": "text/x-python",
   "name": "python",
   "nbconvert_exporter": "python",
   "pygments_lexer": "ipython3",
   "version": "3.12.7"
  }
 },
 "nbformat": 4,
 "nbformat_minor": 5
}
