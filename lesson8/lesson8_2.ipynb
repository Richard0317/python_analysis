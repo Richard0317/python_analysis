{
 "cells": [
  {
   "cell_type": "markdown",
   "id": "b3aa89fb",
   "metadata": {},
   "source": [
    "### python的資料結構"
   ]
  },
  {
   "cell_type": "code",
   "execution_count": null,
   "id": "7537b7b2",
   "metadata": {},
   "outputs": [],
   "source": [
    "name:str = \"徐國堂\"\n",
    "chinese:str = 96\n",
    "english:str = 85\n",
    "math:str = 95"
   ]
  },
  {
   "cell_type": "markdown",
   "id": "0d96dfc5",
   "metadata": {},
   "source": [
    "### 一組有關係的資料(dictionary) - map資料類型"
   ]
  },
  {
   "cell_type": "code",
   "execution_count": 8,
   "id": "56f986df",
   "metadata": {},
   "outputs": [
    {
     "data": {
      "text/plain": [
       "{'name': '徐國堂', 'chinese': 96, 'english': 85, 'math': 95}"
      ]
     },
     "execution_count": 8,
     "metadata": {},
     "output_type": "execute_result"
    }
   ],
   "source": [
    "student:dict = {'name':\"徐國堂\", 'chinese':96, 'english':85, 'math':95}\n",
    "student"
   ]
  },
  {
   "cell_type": "code",
   "execution_count": 2,
   "id": "f2599574",
   "metadata": {},
   "outputs": [
    {
     "data": {
      "text/plain": [
       "{'name': '徐國堂', 'chinese': 96, 'english': 85, 'math': 95}"
      ]
     },
     "execution_count": 2,
     "metadata": {},
     "output_type": "execute_result"
    }
   ],
   "source": [
    "student:dict = {'name':\"徐國堂\",\n",
    "                'chinese':96,\n",
    "                'english': 85,\n",
    "                'math': 95}\n",
    "\n",
    "student"
   ]
  },
  {
   "cell_type": "code",
   "execution_count": 11,
   "id": "1a5a5231",
   "metadata": {},
   "outputs": [
    {
     "data": {
      "text/plain": [
       "96"
      ]
     },
     "execution_count": 11,
     "metadata": {},
     "output_type": "execute_result"
    }
   ],
   "source": [
    "#取出值\n",
    "student['name']\n",
    "student['chinese']"
   ]
  },
  {
   "cell_type": "code",
   "execution_count": 13,
   "id": "8c70cd77",
   "metadata": {},
   "outputs": [
    {
     "data": {
      "text/plain": [
       "90"
      ]
     },
     "execution_count": 13,
     "metadata": {},
     "output_type": "execute_result"
    }
   ],
   "source": [
    "#改變值\n",
    "student['chinese']=90\n",
    "student['chinese']"
   ]
  },
  {
   "cell_type": "code",
   "execution_count": 4,
   "id": "eb19b3d3",
   "metadata": {},
   "outputs": [
    {
     "data": {
      "text/plain": [
       "90"
      ]
     },
     "execution_count": 4,
     "metadata": {},
     "output_type": "execute_result"
    }
   ],
   "source": [
    "#改變值\n",
    "student['chinese'] = 90\n",
    "student['chinese']"
   ]
  },
  {
   "cell_type": "code",
   "execution_count": 14,
   "id": "2964adf1",
   "metadata": {},
   "outputs": [
    {
     "data": {
      "text/plain": [
       "{'name': '徐國堂', 'chinese': 90, 'english': 85, 'math': 95, 'history': 85}"
      ]
     },
     "execution_count": 14,
     "metadata": {},
     "output_type": "execute_result"
    }
   ],
   "source": [
    "#新增值\n",
    "student['history'] = 85\n",
    "student"
   ]
  }
 ],
 "metadata": {
  "kernelspec": {
   "display_name": "base",
   "language": "python",
   "name": "python3"
  },
  "language_info": {
   "codemirror_mode": {
    "name": "ipython",
    "version": 3
   },
   "file_extension": ".py",
   "mimetype": "text/x-python",
   "name": "python",
   "nbconvert_exporter": "python",
   "pygments_lexer": "ipython3",
   "version": "3.12.7"
  }
 },
 "nbformat": 4,
 "nbformat_minor": 5
}
