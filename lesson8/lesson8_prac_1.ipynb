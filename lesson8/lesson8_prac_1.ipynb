{
 "cells": [
  {
   "cell_type": "code",
   "execution_count": 2,
   "id": "ae846fc0",
   "metadata": {},
   "outputs": [
    {
     "name": "stdout",
     "output_type": "stream",
     "text": [
      "國文90分以上的學生: 小華 小麗 \n",
      "成績是: 90 95 "
     ]
    }
   ],
   "source": [
    "students:list[dict] = [\n",
    "                {\"name\": \"小明\", \"chinese\": 85, \"english\": 92, \"math\": 78},\n",
    "                {\"name\": \"小華\", \"chinese\": 90, \"english\": 88, \"math\": 95},\n",
    "                {\"name\": \"小美\", \"chinese\": 79, \"english\": 85, \"math\": 90},\n",
    "                {\"name\": \"小強\", \"chinese\": 88, \"english\": 92, \"math\": 87},\n",
    "                {\"name\": \"小麗\", \"chinese\": 95, \"english\": 89, \"math\": 93}\n",
    "                ]\n",
    "\n",
    "names = [student[\"name\"] for student in students if student['chinese'] >=90]\n",
    "chine_grads = [student[\"chinese\"] for student in students]\n",
    "print(f\"國文90分以上的學生:\",end=' ')\n",
    "for name in names:\n",
    "  print(name,end=' ')\n",
    "print(f\"\\n成績是:\",end=' ')\n",
    "grad_list = list(filter(lambda n:n >= 90 ,chine_grads))\n",
    "for chine_grads in grad_list:\n",
    "  print(chine_grads,end=' ')"
   ]
  }
 ],
 "metadata": {
  "kernelspec": {
   "display_name": "base",
   "language": "python",
   "name": "python3"
  },
  "language_info": {
   "codemirror_mode": {
    "name": "ipython",
    "version": 3
   },
   "file_extension": ".py",
   "mimetype": "text/x-python",
   "name": "python",
   "nbconvert_exporter": "python",
   "pygments_lexer": "ipython3",
   "version": "3.12.7"
  }
 },
 "nbformat": 4,
 "nbformat_minor": 5
}
