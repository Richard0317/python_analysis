{
 "cells": [
  {
   "cell_type": "markdown",
   "id": "c7217bb4",
   "metadata": {},
   "source": [
    "### 取出國文90分以上的學生\n",
    "- 使用filter()\n",
    "- 使用lambda"
   ]
  },
  {
   "cell_type": "code",
   "execution_count": null,
   "id": "e6cb8cea",
   "metadata": {},
   "outputs": [
    {
     "ename": "SyntaxError",
     "evalue": "invalid syntax (3834706731.py, line 15)",
     "output_type": "error",
     "traceback": [
      "\u001b[0;36m  Cell \u001b[0;32mIn[90], line 15\u001b[0;36m\u001b[0m\n\u001b[0;31m    list(filter(lambda student[chinese]:student[chinese] >=90, student))\u001b[0m\n\u001b[0m                              ^\u001b[0m\n\u001b[0;31mSyntaxError\u001b[0m\u001b[0;31m:\u001b[0m invalid syntax\n"
     ]
    }
   ],
   "source": [
    "def chi_90_name (students):\n",
    "    for student in students:\n",
    "        if student['chinese'] >= 90:\n",
    "            return student['name']\n",
    "\n",
    "def main():\n",
    "    students:list[dict] = [\n",
    "        {\"name\": \"小明\", \"chinese\": 85, \"english\": 92, \"math\": 78},\n",
    "        {\"name\": \"小華\", \"chinese\": 90, \"english\": 88, \"math\": 95},\n",
    "        {\"name\": \"小美\", \"chinese\": 79, \"english\": 85, \"math\": 90},\n",
    "        {\"name\": \"小強\", \"chinese\": 88, \"english\": 92, \"math\": 87},\n",
    "        {\"name\": \"小麗\", \"chinese\": 95, \"english\": 89, \"math\": 93}\n",
    "    ]\n",
    "    list(filter(lambda student[chinese]:student[chinese] >=90, student))\n",
    "\n",
    "if __name__ == '__main__':\n",
    "    main()\n"
   ]
  },
  {
   "cell_type": "code",
   "execution_count": 82,
   "id": "f93f6e62",
   "metadata": {},
   "outputs": [
    {
     "data": {
      "text/plain": [
       "[90, 95]"
      ]
     },
     "execution_count": 82,
     "metadata": {},
     "output_type": "execute_result"
    }
   ],
   "source": [
    "numbers:list[int]=[85, 90, 79, 88, 95]\n",
    "\n",
    "list(filter(lambda n:n >=90, numbers))"
   ]
  },
  {
   "cell_type": "code",
   "execution_count": 99,
   "id": "e5d1dcc2",
   "metadata": {},
   "outputs": [
    {
     "name": "stdout",
     "output_type": "stream",
     "text": [
      "{'name': '小明', 'chinese': 85, 'english': 92, 'math': 78}\n",
      "{'name': '小華', 'chinese': 90, 'english': 88, 'math': 95}\n",
      "{'name': '小美', 'chinese': 79, 'english': 85, 'math': 90}\n",
      "{'name': '小強', 'chinese': 88, 'english': 92, 'math': 87}\n",
      "{'name': '小麗', 'chinese': 95, 'english': 89, 'math': 93}\n"
     ]
    }
   ],
   "source": [
    "def main():\n",
    "    students:list[dict] = [\n",
    "        {\"name\": \"小明\", \"chinese\": 85, \"english\": 92, \"math\": 78},\n",
    "        {\"name\": \"小華\", \"chinese\": 90, \"english\": 88, \"math\": 95},\n",
    "        {\"name\": \"小美\", \"chinese\": 79, \"english\": 85, \"math\": 90},\n",
    "        {\"name\": \"小強\", \"chinese\": 88, \"english\": 92, \"math\": 87},\n",
    "        {\"name\": \"小麗\", \"chinese\": 95, \"english\": 89, \"math\": 93}\n",
    "    ]\n",
    "    for i in range(5):\n",
    "        student_list = students[i]\n",
    "        print(student_list)\n",
    "\n",
    "if __name__ == '__main__':\n",
    "    main()"
   ]
  },
  {
   "cell_type": "code",
   "execution_count": 102,
   "id": "960e1471",
   "metadata": {},
   "outputs": [
    {
     "ename": "TypeError",
     "evalue": "string indices must be integers, not 'str'",
     "output_type": "error",
     "traceback": [
      "\u001b[0;31m---------------------------------------------------------------------------\u001b[0m",
      "\u001b[0;31mTypeError\u001b[0m                                 Traceback (most recent call last)",
      "Cell \u001b[0;32mIn[102], line 14\u001b[0m\n\u001b[1;32m     12\u001b[0m             \u001b[38;5;28mprint\u001b[39m(\u001b[38;5;124mf\u001b[39m\u001b[38;5;124m\"\u001b[39m\u001b[38;5;132;01m{\u001b[39;00mchi_grade\u001b[38;5;132;01m}\u001b[39;00m\u001b[38;5;124m\"\u001b[39m)\n\u001b[1;32m     13\u001b[0m \u001b[38;5;28;01mif\u001b[39;00m \u001b[38;5;18m__name__\u001b[39m \u001b[38;5;241m==\u001b[39m \u001b[38;5;124m'\u001b[39m\u001b[38;5;124m__main__\u001b[39m\u001b[38;5;124m'\u001b[39m:\n\u001b[0;32m---> 14\u001b[0m     main()\n",
      "Cell \u001b[0;32mIn[102], line 11\u001b[0m, in \u001b[0;36mmain\u001b[0;34m()\u001b[0m\n\u001b[1;32m      9\u001b[0m \u001b[38;5;28;01mfor\u001b[39;00m i \u001b[38;5;129;01min\u001b[39;00m \u001b[38;5;28mrange\u001b[39m(\u001b[38;5;241m5\u001b[39m):\n\u001b[1;32m     10\u001b[0m    \u001b[38;5;28;01mfor\u001b[39;00m student \u001b[38;5;129;01min\u001b[39;00m students[i]:\n\u001b[0;32m---> 11\u001b[0m         chi_grade \u001b[38;5;241m=\u001b[39m student[\u001b[38;5;124m'\u001b[39m\u001b[38;5;124mchinese\u001b[39m\u001b[38;5;124m'\u001b[39m]\n\u001b[1;32m     12\u001b[0m         \u001b[38;5;28mprint\u001b[39m(\u001b[38;5;124mf\u001b[39m\u001b[38;5;124m\"\u001b[39m\u001b[38;5;132;01m{\u001b[39;00mchi_grade\u001b[38;5;132;01m}\u001b[39;00m\u001b[38;5;124m\"\u001b[39m)\n",
      "\u001b[0;31mTypeError\u001b[0m: string indices must be integers, not 'str'"
     ]
    }
   ],
   "source": [
    "def main():\n",
    "    students:list[dict] = [\n",
    "        {\"name\": \"小明\", \"chinese\": 85, \"english\": 92, \"math\": 78},\n",
    "        {\"name\": \"小華\", \"chinese\": 90, \"english\": 88, \"math\": 95},\n",
    "        {\"name\": \"小美\", \"chinese\": 79, \"english\": 85, \"math\": 90},\n",
    "        {\"name\": \"小強\", \"chinese\": 88, \"english\": 92, \"math\": 87},\n",
    "        {\"name\": \"小麗\", \"chinese\": 95, \"english\": 89, \"math\": 93}\n",
    "    ]\n",
    "    for i in range(5):\n",
    "       for student in students[i]:\n",
    "            chi_grade = student['chinese']\n",
    "            print(f\"{chi_grade}\")\n",
    "if __name__ == '__main__':\n",
    "    main()"
   ]
  },
  {
   "cell_type": "code",
   "execution_count": 42,
   "id": "b0c279ce",
   "metadata": {},
   "outputs": [
    {
     "name": "stdout",
     "output_type": "stream",
     "text": [
      "小華\n",
      "90\n",
      "小麗\n",
      "95\n"
     ]
    }
   ],
   "source": [
    "def chi_90_grade (students):\n",
    "    for student in students:\n",
    "        if student['chinese'] >= 90:\n",
    "            print(student['name'])\n",
    "            print(student['chinese'])\n",
    "\n",
    "def main():\n",
    "    students:list[dict] = [\n",
    "        {\"name\": \"小明\", \"chinese\": 85, \"english\": 92, \"math\": 78},\n",
    "        {\"name\": \"小華\", \"chinese\": 90, \"english\": 88, \"math\": 95},\n",
    "        {\"name\": \"小美\", \"chinese\": 79, \"english\": 85, \"math\": 90},\n",
    "        {\"name\": \"小強\", \"chinese\": 88, \"english\": 92, \"math\": 87},\n",
    "        {\"name\": \"小麗\", \"chinese\": 95, \"english\": 89, \"math\": 93}\n",
    "    ]\n",
    "    chi_90_grade(students)\n",
    "\n",
    "if __name__ == '__main__':\n",
    "    main()"
   ]
  },
  {
   "cell_type": "code",
   "execution_count": 134,
   "id": "c2046503",
   "metadata": {},
   "outputs": [],
   "source": [
    "def chi_90 (students):\n",
    "    for student in students:\n",
    "       return student['chinese'] >=90\n",
    "\n",
    "def main():\n",
    "    students:list[dict] = [\n",
    "            {\"name\": \"小明\", \"chinese\": 85, \"english\": 92, \"math\": 78},\n",
    "            {\"name\": \"小華\", \"chinese\": 90, \"english\": 88, \"math\": 95},\n",
    "            {\"name\": \"小美\", \"chinese\": 79, \"english\": 85, \"math\": 90},\n",
    "            {\"name\": \"小強\", \"chinese\": 88, \"english\": 92, \"math\": 87},\n",
    "            {\"name\": \"小麗\", \"chinese\": 95, \"english\": 89, \"math\": 93}\n",
    "        ]\n",
    "    \n",
    "    filter(chi_90, students)\n",
    "   \n",
    "\n",
    "if __name__ == '__main__':\n",
    "    main()\n"
   ]
  },
  {
   "cell_type": "code",
   "execution_count": 131,
   "id": "f9eb8ad6",
   "metadata": {},
   "outputs": [
    {
     "name": "stdout",
     "output_type": "stream",
     "text": [
      "[18, 24, 32]\n"
     ]
    }
   ],
   "source": [
    "ages = [5, 12, 17, 18, 24, 32]\n",
    "adults = filter(lambda x: x >= 18, ages)\n",
    "print(list(adults))  # 輸出: [18, 24, 32]"
   ]
  },
  {
   "cell_type": "code",
   "execution_count": null,
   "id": "ae5c31c0",
   "metadata": {},
   "outputs": [],
   "source": [
    "list(filter(lambda n:n >=90, numbers))"
   ]
  },
  {
   "cell_type": "code",
   "execution_count": null,
   "id": "0629e5eb",
   "metadata": {},
   "outputs": [
    {
     "name": "stdout",
     "output_type": "stream",
     "text": [
      "95\n"
     ]
    }
   ],
   "source": [
    "def main():\n",
    "    students:list[dict] = [\n",
    "        {\"name\": \"小明\", \"chinese\": 85, \"english\": 92, \"math\": 78},\n",
    "        {\"name\": \"小華\", \"chinese\": 90, \"english\": 88, \"math\": 95},\n",
    "        {\"name\": \"小美\", \"chinese\": 79, \"english\": 85, \"math\": 90},\n",
    "        {\"name\": \"小強\", \"chinese\": 88, \"english\": 92, \"math\": 87},\n",
    "        {\"name\": \"小麗\", \"chinese\": 95, \"english\": 89, \"math\": 93}\n",
    "    ]\n",
    "    for student in students:\n",
    "        for value in student.values():\n",
    "        chin_grade:list = student['chinese']\n",
    "    print(chin_grade)\n",
    "if __name__ == '__main__':\n",
    "    main()"
   ]
  },
  {
   "cell_type": "code",
   "execution_count": null,
   "id": "72ff2649",
   "metadata": {},
   "outputs": [
    {
     "ename": "TypeError",
     "evalue": "'function' object is not iterable",
     "output_type": "error",
     "traceback": [
      "\u001b[0;31m---------------------------------------------------------------------------\u001b[0m",
      "\u001b[0;31mTypeError\u001b[0m                                 Traceback (most recent call last)",
      "Cell \u001b[0;32mIn[80], line 13\u001b[0m\n\u001b[1;32m     11\u001b[0m             \u001b[38;5;28;01mfor\u001b[39;00m value \u001b[38;5;129;01min\u001b[39;00m student:\n\u001b[1;32m     12\u001b[0m                 \u001b[38;5;28;01mreturn\u001b[39;00m student[\u001b[38;5;124m'\u001b[39m\u001b[38;5;124mname\u001b[39m\u001b[38;5;124m'\u001b[39m]\n\u001b[0;32m---> 13\u001b[0m \u001b[38;5;28mprint\u001b[39m(\u001b[38;5;28mlist\u001b[39m(make_list))\n",
      "\u001b[0;31mTypeError\u001b[0m: 'function' object is not iterable"
     ]
    }
   ],
   "source": [
    "students:list[dict] = [\n",
    "        {\"name\": \"小明\", \"chinese\": 85, \"english\": 92, \"math\": 78},\n",
    "        {\"name\": \"小華\", \"chinese\": 90, \"english\": 88, \"math\": 95},\n",
    "        {\"name\": \"小美\", \"chinese\": 79, \"english\": 85, \"math\": 90},\n",
    "        {\"name\": \"小強\", \"chinese\": 88, \"english\": 92, \"math\": 87},\n",
    "        {\"name\": \"小麗\", \"chinese\": 95, \"english\": 89, \"math\": 93}\n",
    "    ]\n",
    "def make_list():\n",
    "    for i in range(5):\n",
    "        for student in students[i]:\n",
    "            for value in student:\n",
    "                return student['name']\n",
    "\n"
   ]
  },
  {
   "cell_type": "code",
   "execution_count": 54,
   "id": "c3b67a09",
   "metadata": {},
   "outputs": [
    {
     "data": {
      "text/plain": [
       "{'name': '小明', 'chinese': 85, 'english': 92, 'math': 78}"
      ]
     },
     "execution_count": 54,
     "metadata": {},
     "output_type": "execute_result"
    }
   ],
   "source": [
    "students:list[dict] = [\n",
    "        {\"name\": \"小明\", \"chinese\": 85, \"english\": 92, \"math\": 78},\n",
    "        {\"name\": \"小華\", \"chinese\": 90, \"english\": 88, \"math\": 95},\n",
    "        {\"name\": \"小美\", \"chinese\": 79, \"english\": 85, \"math\": 90},\n",
    "        {\"name\": \"小強\", \"chinese\": 88, \"english\": 92, \"math\": 87},\n",
    "        {\"name\": \"小麗\", \"chinese\": 95, \"english\": 89, \"math\": 93}\n",
    "    ]\n",
    "students[0]"
   ]
  },
  {
   "cell_type": "code",
   "execution_count": 52,
   "id": "47986a08",
   "metadata": {},
   "outputs": [
    {
     "name": "stdout",
     "output_type": "stream",
     "text": [
      "[4, 5, 6]\n"
     ]
    }
   ],
   "source": [
    "def make_list():\n",
    "    return [4, 5, 6]\n",
    "\n",
    "my_list = make_list()\n",
    "print(my_list)  # 輸出: [4, 5, 6]"
   ]
  },
  {
   "cell_type": "code",
   "execution_count": 70,
   "id": "c2bc4206",
   "metadata": {},
   "outputs": [
    {
     "name": "stdout",
     "output_type": "stream",
     "text": [
      "小明\n",
      "小明\n",
      "小明\n",
      "小明\n",
      "小華\n",
      "小華\n",
      "小華\n",
      "小華\n",
      "小美\n",
      "小美\n",
      "小美\n",
      "小美\n",
      "小強\n",
      "小強\n",
      "小強\n",
      "小強\n",
      "小麗\n",
      "小麗\n",
      "小麗\n",
      "小麗\n"
     ]
    }
   ],
   "source": [
    "students:list[dict] = [\n",
    "        {\"name\": \"小明\", \"chinese\": 85, \"english\": 92, \"math\": 78},\n",
    "        {\"name\": \"小華\", \"chinese\": 90, \"english\": 88, \"math\": 95},\n",
    "        {\"name\": \"小美\", \"chinese\": 79, \"english\": 85, \"math\": 90},\n",
    "        {\"name\": \"小強\", \"chinese\": 88, \"english\": 92, \"math\": 87},\n",
    "        {\"name\": \"小麗\", \"chinese\": 95, \"english\": 89, \"math\": 93}\n",
    "    ]\n",
    "\n",
    "for student in students:\n",
    "    for value in student.values():\n",
    "        print(student['name'])"
   ]
  },
  {
   "cell_type": "code",
   "execution_count": null,
   "id": "0e245317",
   "metadata": {},
   "outputs": [
    {
     "name": "stdout",
     "output_type": "stream",
     "text": [
      "小麗\n",
      "小麗\n",
      "小麗\n",
      "小麗\n",
      "小麗\n"
     ]
    },
    {
     "data": {
      "text/plain": [
       "[]"
      ]
     },
     "execution_count": 5,
     "metadata": {},
     "output_type": "execute_result"
    }
   ],
   "source": [
    "students:list[dict] = [\n",
    "    {\"name\": \"小明\", \"chinese\": 85, \"english\": 92, \"math\": 78},\n",
    "    {\"name\": \"小華\", \"chinese\": 90, \"english\": 88, \"math\": 95},\n",
    "    {\"name\": \"小美\", \"chinese\": 79, \"english\": 85, \"math\": 90},\n",
    "    {\"name\": \"小強\", \"chinese\": 88, \"english\": 92, \"math\": 87},\n",
    "    {\"name\": \"小麗\", \"chinese\": 95, \"english\": 89, \"math\": 93}\n",
    "]\n",
    "\n",
    "chinese_grade\n",
    "\n",
    "def chinese_ab90 (student):\n",
    "    for student in students: \n",
    "        if student['chinese'] > 90:\n",
    "            print(student['name'])\n",
    "list(filter(chinese_ab90, students))"
   ]
  },
  {
   "cell_type": "code",
   "execution_count": 143,
   "id": "f2ab975e",
   "metadata": {},
   "outputs": [
    {
     "name": "stdout",
     "output_type": "stream",
     "text": [
      "90\n"
     ]
    }
   ],
   "source": [
    "def chi_90 (students):    \n",
    "    for student in students:\n",
    "        if student['chinese'] >= 90:\n",
    "            return student['chinese']\n",
    "\n",
    "def main():\n",
    "    students:list[dict] = [\n",
    "            {\"name\": \"小明\", \"chinese\": 85, \"english\": 92, \"math\": 78},\n",
    "            {\"name\": \"小華\", \"chinese\": 90, \"english\": 88, \"math\": 95},\n",
    "            {\"name\": \"小美\", \"chinese\": 79, \"english\": 85, \"math\": 90},\n",
    "            {\"name\": \"小強\", \"chinese\": 88, \"english\": 92, \"math\": 87},\n",
    "            {\"name\": \"小麗\", \"chinese\": 95, \"english\": 89, \"math\": 93}\n",
    "        ]\n",
    "    \n",
    "    grade_list = chi_90 (students)\n",
    "    print(grade_list)\n",
    "\n",
    "if __name__ == '__main__':\n",
    "    main()"
   ]
  },
  {
   "cell_type": "code",
   "execution_count": 157,
   "id": "0fd34b1d",
   "metadata": {},
   "outputs": [
    {
     "data": {
      "text/plain": [
       "{'name': '小華', 'chinese': 90, 'english': 88, 'math': 95}"
      ]
     },
     "execution_count": 157,
     "metadata": {},
     "output_type": "execute_result"
    }
   ],
   "source": [
    "students:list[dict] = [\n",
    "                {\"name\": \"小明\", \"chinese\": 85, \"english\": 92, \"math\": 78},\n",
    "                {\"name\": \"小華\", \"chinese\": 90, \"english\": 88, \"math\": 95},\n",
    "                {\"name\": \"小美\", \"chinese\": 79, \"english\": 85, \"math\": 90},\n",
    "                {\"name\": \"小強\", \"chinese\": 88, \"english\": 92, \"math\": 87},\n",
    "                {\"name\": \"小麗\", \"chinese\": 95, \"english\": 89, \"math\": 93}\n",
    "            ]\n",
    "students[1]"
   ]
  },
  {
   "cell_type": "code",
   "execution_count": null,
   "id": "cf9370bf",
   "metadata": {},
   "outputs": [
    {
     "name": "stdout",
     "output_type": "stream",
     "text": [
      "85\n",
      "['8', '5']\n",
      "90\n",
      "['9', '0']\n",
      "79\n",
      "['7', '9']\n",
      "88\n",
      "['8', '8']\n",
      "95\n",
      "['9', '5']\n"
     ]
    }
   ],
   "source": [
    "def main():\n",
    "    students:list[dict] = [\n",
    "                {\"name\": \"小明\", \"chinese\": 85, \"english\": 92, \"math\": 78},\n",
    "                {\"name\": \"小華\", \"chinese\": 90, \"english\": 88, \"math\": 95},\n",
    "                {\"name\": \"小美\", \"chinese\": 79, \"english\": 85, \"math\": 90},\n",
    "                {\"name\": \"小強\", \"chinese\": 88, \"english\": 92, \"math\": 87},\n",
    "                {\"name\": \"小麗\", \"chinese\": 95, \"english\": 89, \"math\": 93}\n",
    "            ]\n",
    "    \n",
    "    for student in students:\n",
    "        s = str(student['chinese'])\n",
    "        print(student['chinese'])\n",
    "        my_list = list(s)\n",
    "        print(my_list)\n",
    "\n",
    "if __name__ == '__main__':\n",
    "    main()"
   ]
  },
  {
   "cell_type": "code",
   "execution_count": null,
   "id": "15608f90",
   "metadata": {},
   "outputs": [],
   "source": [
    "my_list = list(range(1, 6))  # 從 1 到 5\n",
    "print(my_list)  # [1, 2, 3, 4, 5]"
   ]
  },
  {
   "cell_type": "code",
   "execution_count": 201,
   "id": "2f5014a0",
   "metadata": {},
   "outputs": [
    {
     "name": "stdout",
     "output_type": "stream",
     "text": [
      "90\n",
      "小華\n",
      "95\n",
      "小麗\n"
     ]
    }
   ],
   "source": [
    "def main():\n",
    "    students:list[dict] = [\n",
    "                    {\"name\": \"小明\", \"chinese\": 85, \"english\": 92, \"math\": 78},\n",
    "                    {\"name\": \"小華\", \"chinese\": 90, \"english\": 88, \"math\": 95},\n",
    "                    {\"name\": \"小美\", \"chinese\": 79, \"english\": 85, \"math\": 90},\n",
    "                    {\"name\": \"小強\", \"chinese\": 88, \"english\": 92, \"math\": 87},\n",
    "                    {\"name\": \"小麗\", \"chinese\": 95, \"english\": 89, \"math\": 93}\n",
    "                ]\n",
    "\n",
    "    for student in students:\n",
    "        name_list = student['name']\n",
    "        chi_grad = student['chinese']\n",
    "        if chi_grad >= 90:\n",
    "            print(chi_grad)\n",
    "            print(name_list)\n",
    "\n",
    "\n",
    "if __name__ == '__main__':\n",
    "    main()"
   ]
  },
  {
   "cell_type": "code",
   "execution_count": null,
   "id": "a27f1ad3",
   "metadata": {},
   "outputs": [
    {
     "name": "stdout",
     "output_type": "stream",
     "text": [
      "小華\n",
      "小麗\n"
     ]
    }
   ],
   "source": [
    "def chi_90_name (students):\n",
    "    for student in students:\n",
    "        name_list = student['name']\n",
    "        chi_grad = student['chinese']\n",
    "        if chi_grad >= 90:\n",
    "            print(student['name'])\n",
    "\n",
    "def main():\n",
    "    students:list[dict] = [\n",
    "                    {\"name\": \"小明\", \"chinese\": 85, \"english\": 92, \"math\": 78},\n",
    "                    {\"name\": \"小華\", \"chinese\": 90, \"english\": 88, \"math\": 95},\n",
    "                    {\"name\": \"小美\", \"chinese\": 79, \"english\": 85, \"math\": 90},\n",
    "                    {\"name\": \"小強\", \"chinese\": 88, \"english\": 92, \"math\": 87},\n",
    "                    {\"name\": \"小麗\", \"chinese\": 95, \"english\": 89, \"math\": 93}\n",
    "                ]\n",
    "    \n",
    "    \n",
    "if __name__ == '__main__':\n",
    "    main()"
   ]
  },
  {
   "cell_type": "code",
   "execution_count": null,
   "id": "1a47f282",
   "metadata": {},
   "outputs": [],
   "source": [
    "values = list(my_dict.values())\n",
    "print(values)  # [1, 2, 3]"
   ]
  },
  {
   "cell_type": "code",
   "execution_count": null,
   "id": "44e661c4",
   "metadata": {},
   "outputs": [],
   "source": [
    "keys = ['a', 'c']\n",
    "values = [my_dict[k] for k in keys]\n",
    "print(values)  # [1, 3]"
   ]
  },
  {
   "cell_type": "code",
   "execution_count": 225,
   "id": "4e0c1041",
   "metadata": {},
   "outputs": [
    {
     "name": "stdout",
     "output_type": "stream",
     "text": [
      "{'name': '小明', 'chinese': 85, 'english': 92, 'math': 78}\n",
      "{'name': '小華', 'chinese': 90, 'english': 88, 'math': 95}\n",
      "{'name': '小美', 'chinese': 79, 'english': 85, 'math': 90}\n",
      "{'name': '小強', 'chinese': 88, 'english': 92, 'math': 87}\n",
      "{'name': '小麗', 'chinese': 95, 'english': 89, 'math': 93}\n"
     ]
    }
   ],
   "source": [
    "def main():\n",
    "    students:list[dict] = [\n",
    "                {\"name\": \"小明\", \"chinese\": 85, \"english\": 92, \"math\": 78},\n",
    "                {\"name\": \"小華\", \"chinese\": 90, \"english\": 88, \"math\": 95},\n",
    "                {\"name\": \"小美\", \"chinese\": 79, \"english\": 85, \"math\": 90},\n",
    "                {\"name\": \"小強\", \"chinese\": 88, \"english\": 92, \"math\": 87},\n",
    "                {\"name\": \"小麗\", \"chinese\": 95, \"english\": 89, \"math\": 93}\n",
    "            ]\n",
    "    for i in range(5):\n",
    "        student_list = students[i]\n",
    "        print(student_list)\n",
    "\n",
    "if __name__ == '__main__':\n",
    "    main()\n",
    "    \n"
   ]
  }
 ],
 "metadata": {
  "kernelspec": {
   "display_name": "base",
   "language": "python",
   "name": "python3"
  },
  "language_info": {
   "codemirror_mode": {
    "name": "ipython",
    "version": 3
   },
   "file_extension": ".py",
   "mimetype": "text/x-python",
   "name": "python",
   "nbconvert_exporter": "python",
   "pygments_lexer": "ipython3",
   "version": "3.12.7"
  }
 },
 "nbformat": 4,
 "nbformat_minor": 5
}
