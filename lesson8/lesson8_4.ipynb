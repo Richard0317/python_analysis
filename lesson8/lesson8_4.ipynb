{
 "cells": [
  {
   "cell_type": "markdown",
   "id": "7e65b400",
   "metadata": {},
   "source": [
    "### function的參數,可以要求是一個function"
   ]
  },
  {
   "cell_type": "code",
   "execution_count": 1,
   "id": "e07a3bbc",
   "metadata": {},
   "outputs": [
    {
     "data": {
      "text/plain": [
       "[1, 3, 5, 7, 9]"
      ]
     },
     "execution_count": 1,
     "metadata": {},
     "output_type": "execute_result"
    }
   ],
   "source": [
    "numbers:list[int]=[1, 2, 3, 4, 5, 6, 7, 8, 9, 10]\n",
    "def is_odd (n):\n",
    "    if n % 2 == 1:\n",
    "        return True\n",
    "    else:\n",
    "        return False\n",
    "\n",
    "list(filter(is_odd, numbers))"
   ]
  },
  {
   "cell_type": "code",
   "execution_count": 2,
   "id": "124da9f5",
   "metadata": {},
   "outputs": [
    {
     "data": {
      "text/plain": [
       "<filter at 0x70d2abe1c520>"
      ]
     },
     "execution_count": 2,
     "metadata": {},
     "output_type": "execute_result"
    }
   ],
   "source": [
    "numbers:list[int]=[1, 2, 3, 4, 5, 6, 7, 8, 9, 10]\n",
    "def is_odd (n):\n",
    "    if n % 2 == 1:\n",
    "        return True\n",
    "    else:\n",
    "        return False\n",
    "\n",
    "filter(is_odd, numbers)"
   ]
  },
  {
   "cell_type": "code",
   "execution_count": 3,
   "id": "ed994f8a",
   "metadata": {},
   "outputs": [
    {
     "data": {
      "text/plain": [
       "[1, 3, 5, 7, 9]"
      ]
     },
     "execution_count": 3,
     "metadata": {},
     "output_type": "execute_result"
    }
   ],
   "source": [
    "numbers:list[int]=[1, 2, 3, 4, 5, 6, 7, 8, 9, 10]\n",
    "def is_odd (n):\n",
    "    if n % 2 == 1:\n",
    "        return n % 2 == 1\n",
    "\n",
    "list(filter(is_odd, numbers))"
   ]
  },
  {
   "cell_type": "code",
   "execution_count": 5,
   "id": "0d777fd4",
   "metadata": {},
   "outputs": [
    {
     "data": {
      "text/plain": [
       "[1, 3, 5, 7, 9]"
      ]
     },
     "execution_count": 5,
     "metadata": {},
     "output_type": "execute_result"
    }
   ],
   "source": [
    "numbers:list[int]=[1, 2, 3, 4, 5, 6, 7, 8, 9, 10]\n",
    "\n",
    "#取出奇數值\n",
    "list(filter(lambda n:n%2 ==1, numbers))"
   ]
  }
 ],
 "metadata": {
  "kernelspec": {
   "display_name": "base",
   "language": "python",
   "name": "python3"
  },
  "language_info": {
   "codemirror_mode": {
    "name": "ipython",
    "version": 3
   },
   "file_extension": ".py",
   "mimetype": "text/x-python",
   "name": "python",
   "nbconvert_exporter": "python",
   "pygments_lexer": "ipython3",
   "version": "3.12.7"
  }
 },
 "nbformat": 4,
 "nbformat_minor": 5
}
