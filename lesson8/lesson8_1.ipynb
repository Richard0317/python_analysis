{
 "cells": [
  {
   "cell_type": "markdown",
   "id": "aca027a9",
   "metadata": {},
   "source": [
    "### 如何呼叫funtion"
   ]
  },
  {
   "cell_type": "code",
   "execution_count": null,
   "id": "fa8a1fd0",
   "metadata": {},
   "outputs": [],
   "source": [
    "def menu (wine:str,entree:str,dessert:str):\n",
    "    print(f\"前酒:{wine}\")\n",
    "    print(f\"主菜:{entree}\")\n",
    "    print(f\"甜點:{dessert}\")"
   ]
  },
  {
   "cell_type": "markdown",
   "id": "8d9e53c2",
   "metadata": {},
   "source": [
    "### 引數值的呼叫(依照參數的順序)"
   ]
  },
  {
   "cell_type": "code",
   "execution_count": 8,
   "id": "50690ab4",
   "metadata": {},
   "outputs": [
    {
     "name": "stdout",
     "output_type": "stream",
     "text": [
      "前酒:白酒\n",
      "主菜:雞排\n",
      "甜點:蛋糕\n"
     ]
    }
   ],
   "source": [
    "menu('白酒','雞排','蛋糕')"
   ]
  },
  {
   "cell_type": "markdown",
   "id": "48686e63",
   "metadata": {},
   "source": [
    "引數名稱的呼叫(可以不依照順序)"
   ]
  },
  {
   "cell_type": "code",
   "execution_count": 9,
   "id": "b714eb01",
   "metadata": {},
   "outputs": [
    {
     "name": "stdout",
     "output_type": "stream",
     "text": [
      "前酒:白酒\n",
      "主菜:雞排\n",
      "甜點:蛋糕\n",
      "前酒:白酒\n",
      "主菜:雞排\n",
      "甜點:蛋糕\n"
     ]
    }
   ],
   "source": [
    "menu(wine='白酒',entree='雞排',dessert='蛋糕')\n",
    "menu(wine='白酒',dessert='蛋糕',entree='雞排')"
   ]
  }
 ],
 "metadata": {
  "kernelspec": {
   "display_name": "base",
   "language": "python",
   "name": "python3"
  },
  "language_info": {
   "codemirror_mode": {
    "name": "ipython",
    "version": 3
   },
   "file_extension": ".py",
   "mimetype": "text/x-python",
   "name": "python",
   "nbconvert_exporter": "python",
   "pygments_lexer": "ipython3",
   "version": "3.12.7"
  }
 },
 "nbformat": 4,
 "nbformat_minor": 5
}
