{
 "cells": [
  {
   "cell_type": "markdown",
   "id": "f2ac052e",
   "metadata": {},
   "source": [
    "- name,age,city\n",
    "- Alice,30,Taipei\n",
    "- Bob,25,Kaohsiung\n",
    "- Charlie,35,Tainan"
   ]
  },
  {
   "cell_type": "code",
   "execution_count": 3,
   "id": "c0717597",
   "metadata": {},
   "outputs": [
    {
     "name": "stdout",
     "output_type": "stream",
     "text": [
      "employees.csv 已成功儲存\n"
     ]
    }
   ],
   "source": [
    "import csv\n",
    "\n",
    "employees = [\n",
    "    {'name': 'Alice', 'age': 30, 'city': 'Taipei'},\n",
    "    {'name': 'Bob', 'age': 25, 'city': 'Kaohsiung'},\n",
    "    {'name': 'Charlie', 'age': 35, 'city': 'Tainan'}\n",
    "]\n",
    "\n",
    "# 取得欄位名稱（CSV 標題）\n",
    "fieldnames = employees[0].keys()\n",
    "\n",
    "with open('employees.csv', mode='w', encoding='utf-8', newline='') as file:\n",
    "    writer = csv.DictWriter(file, fieldnames=fieldnames)\n",
    "    writer.writeheader()       # 寫入欄位名稱\n",
    "    writer.writerows(employees) # 寫入多筆資料列\n",
    "\n",
    "print(\"employees.csv 已成功儲存\")"
   ]
  },
  {
   "cell_type": "code",
   "execution_count": 5,
   "id": "487e6846",
   "metadata": {},
   "outputs": [
    {
     "name": "stdout",
     "output_type": "stream",
     "text": [
      "Alice\n",
      "Bob\n",
      "Charlie\n"
     ]
    }
   ],
   "source": [
    "import csv\n",
    "\n",
    "with open('employees.csv', mode='r', encoding='utf-8') as csvfile:\n",
    "    reader = csv.DictReader(csvfile)\n",
    "    for row in reader:\n",
    "        print(row['name'])  # 透過欄位名稱讀取該欄位資料\n"
   ]
  },
  {
   "cell_type": "code",
   "execution_count": 6,
   "id": "088127af",
   "metadata": {},
   "outputs": [
    {
     "data": {
      "text/plain": [
       "csv.DictReader"
      ]
     },
     "execution_count": 6,
     "metadata": {},
     "output_type": "execute_result"
    }
   ],
   "source": [
    "import csv\n",
    "\n",
    "with open('employees.csv', mode='r', encoding='utf-8') as csvfile:\n",
    "    reader = csv.DictReader(csvfile)\n",
    "type(reader)"
   ]
  },
  {
   "cell_type": "code",
   "execution_count": 8,
   "id": "938e535d",
   "metadata": {},
   "outputs": [
    {
     "name": "stdout",
     "output_type": "stream",
     "text": [
      "欄位名稱列表: ['name', 'age', 'city']\n",
      "欄位 'name' 是第 0 欄（從0開始計算）\n"
     ]
    }
   ],
   "source": [
    "import csv\n",
    "\n",
    "with open('employees.csv', newline='', encoding='utf-8') as csvfile:\n",
    "    reader = csv.DictReader(csvfile)\n",
    "    \n",
    "    # 取得欄位名稱列表（依讀取順序）\n",
    "    fieldnames = reader.fieldnames\n",
    "    \n",
    "    print(\"欄位名稱列表:\", fieldnames)\n",
    "    \n",
    "    # 假設要找的欄位名稱\n",
    "    target_col = 'name'\n",
    "    \n",
    "    if target_col in fieldnames:\n",
    "        index = fieldnames.index(target_col)\n",
    "        print(f\"欄位 '{target_col}' 是第 {index} 欄（從0開始計算）\")\n",
    "    else:\n",
    "        print(f\"欄位 '{target_col}' 不存在\")\n"
   ]
  },
  {
   "cell_type": "code",
   "execution_count": 9,
   "id": "079236e1",
   "metadata": {},
   "outputs": [
    {
     "name": "stdout",
     "output_type": "stream",
     "text": [
      "年齡: 30.0\n",
      "年齡: 25.0\n",
      "年齡: 35.0\n"
     ]
    }
   ],
   "source": [
    "import csv\n",
    "\n",
    "with open('employees.csv', mode='r', encoding='utf-8') as csvfile:\n",
    "    reader = csv.DictReader(csvfile)\n",
    "    for row in reader:\n",
    "        age = float(row['age'])\n",
    "        print(f\"年齡: {age}\")"
   ]
  }
 ],
 "metadata": {
  "kernelspec": {
   "display_name": "base",
   "language": "python",
   "name": "python3"
  },
  "language_info": {
   "codemirror_mode": {
    "name": "ipython",
    "version": 3
   },
   "file_extension": ".py",
   "mimetype": "text/x-python",
   "name": "python",
   "nbconvert_exporter": "python",
   "pygments_lexer": "ipython3",
   "version": "3.12.7"
  }
 },
 "nbformat": 4,
 "nbformat_minor": 5
}
