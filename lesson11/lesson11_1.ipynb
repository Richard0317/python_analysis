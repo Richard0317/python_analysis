{
 "cells": [
  {
   "cell_type": "code",
   "execution_count": null,
   "id": "ff85d336",
   "metadata": {},
   "outputs": [],
   "source": [
    "import csv\n",
    "\n",
    "file_name:str = \"練習/aqx_p_488.csv\"\n",
    "with open(file_name, newline='', encoding='utf-8') as csvfile:\n",
    "    reader = csv.DictReader(csvfile)  # 使用 DictReader 讀取成字典格式\n",
    "    sites = list(reader)\n",
    "    \n",
    "sites"
   ]
  }
 ],
 "metadata": {
  "kernelspec": {
   "display_name": "base",
   "language": "python",
   "name": "python3"
  },
  "language_info": {
   "codemirror_mode": {
    "name": "ipython",
    "version": 3
   },
   "file_extension": ".py",
   "mimetype": "text/x-python",
   "name": "python",
   "nbconvert_exporter": "python",
   "pygments_lexer": "ipython3",
   "version": "3.12.7"
  }
 },
 "nbformat": 4,
 "nbformat_minor": 5
}
