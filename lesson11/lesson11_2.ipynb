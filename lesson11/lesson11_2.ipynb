{
 "cells": [
  {
   "cell_type": "markdown",
   "id": "4f367938",
   "metadata": {},
   "source": [
    "在Python中，若要進行Internet下載相關的功能，常見且建議使用的套件主要有以下幾個：\n",
    "\n",
    "- **Requests**：這是最常用的HTTP請求套件，操作簡單且功能強大，適合用來下載網頁資料或檔案。安裝指令為 `pip install requests`，非常適合直接下載靜態的檔案或API資料[2][5][6][8]。\n",
    "\n",
    "- **Beautiful Soup**：用於解析HTML和XML文件，常與Requests搭配使用，方便從網頁中提取下載連結或其他資料[2][5][6]。\n",
    "\n",
    "- **Selenium**：當下載的檔案連結是動態生成或需要模擬瀏覽器操作（如點擊按鈕）時，Selenium能自動化瀏覽器行為，實現複雜的下載流程[5][6]。\n",
    "\n",
    "- **Scrapy**：一個功能完整的網頁爬蟲框架，適合大型或複雜的爬取任務，也能用於下載網頁上的檔案[2][6]。\n",
    "\n",
    "這些套件都可以透過Python的套件管理工具pip從PyPI安裝，使用方式簡單且社群支援豐富。你可以根據需求選擇：\n",
    "\n",
    "- 若只是簡單下載檔案或HTTP請求，優先選擇Requests。\n",
    "- 若需要解析網頁內容，搭配Beautiful Soup。\n",
    "- 若下載流程需要模擬使用者操作，使用Selenium。\n",
    "- 若需要大規模或結構化的爬蟲，考慮Scrapy。\n",
    "\n",
    "安裝範例：\n",
    "\n",
    "```bash\n",
    "pip install requests\n",
    "pip install beautifulsoup4\n",
    "pip install selenium\n",
    "pip install scrapy\n",
    "```\n",
    "\n",
    "這些套件涵蓋了從簡單到複雜的網路下載需求，是Python網路下載開發的主流選擇[1][2][5][6]。"
   ]
  },
  {
   "cell_type": "code",
   "execution_count": null,
   "id": "1ff4142e",
   "metadata": {},
   "outputs": [],
   "source": [
    "import requests"
   ]
  },
  {
   "cell_type": "code",
   "execution_count": 11,
   "id": "f03f19d1",
   "metadata": {},
   "outputs": [
    {
     "name": "stdout",
     "output_type": "stream",
     "text": [
      "下載成功\n"
     ]
    }
   ],
   "source": [
    "import requests\n",
    "\n",
    "url:str = 'https://data.moenv.gov.tw/api/v2/aqx_p_488?api_key=58d6040c-dca7-407f-a244-d0bfdfa8144a&limit=1000&sort=datacreationdate desc&format=CSV'\n",
    "s = requests.session()\n",
    "resopnse = s.get(url, timeout=5)\n",
    "if response.status_code == 200:\n",
    "    print(\"下載成功\")\n",
    "else:\n",
    "    print(\"下載失敗\")"
   ]
  },
  {
   "cell_type": "code",
   "execution_count": 5,
   "id": "0f10eb08",
   "metadata": {},
   "outputs": [
    {
     "name": "stdout",
     "output_type": "stream",
     "text": [
      "下載成功\n"
     ]
    }
   ],
   "source": [
    "import requests\n",
    "from requests import Response\n",
    "\n",
    "url:str = 'https://data.moenv.gov.tw/api/v2/aqx_p_488?api_key=58d6040c-dca7-407f-a244-d0bfdfa8144a&limit=1000&sort=datacreationdate desc&format=CSV'\n",
    "response:Response = requests.get(url, timeout=5)\n",
    "if response.status_code == 200:\n",
    "    print(\"下載成功\")\n",
    "else:\n",
    "    print(\"下載失敗\")"
   ]
  },
  {
   "cell_type": "code",
   "execution_count": null,
   "id": "43a3cb62",
   "metadata": {},
   "outputs": [
    {
     "name": "stdout",
     "output_type": "stream",
     "text": [
      "'pg_connect(): Unable to connect to PostgreSQL server: connection to server at &quot;10.0.99.149&quot;, port 5432 failed: FATAL:  the database system is starting up'\n"
     ]
    }
   ],
   "source": [
    "from pprint import pprint\n",
    "pprint(response.text,compact=True,width=300,depth=True) #requests政府開放平台在國外會檔，改成下述新北市政府YouBike"
   ]
  },
  {
   "cell_type": "code",
   "execution_count": 3,
   "id": "aad391bd",
   "metadata": {},
   "outputs": [
    {
     "name": "stdout",
     "output_type": "stream",
     "text": [
      "下載成功\n"
     ]
    }
   ],
   "source": [
    "import requests\n",
    "from requests import Response\n",
    "\n",
    "url:str = 'https://data.ntpc.gov.tw/api/datasets/010e5b15-3823-4b20-b401-b1cf000550c5/csv?page=0&size=1000'\n",
    "response:Response = requests.get(url, timeout=5)\n",
    "if response.status_code == 200:\n",
    "    print(\"下載成功\")\n",
    "else:\n",
    "    print(\"下載失敗\")"
   ]
  },
  {
   "cell_type": "code",
   "execution_count": 14,
   "id": "3895c0d4",
   "metadata": {},
   "outputs": [
    {
     "name": "stdout",
     "output_type": "stream",
     "text": [
      "'pg_connect(): Unable to connect to PostgreSQL server: connection to server at &quot;10.0.99.149&quot;, port 5432 failed: FATAL:  the database system is starting up'\n"
     ]
    }
   ],
   "source": [
    "from pprint import pprint\n",
    "pprint(response.text,compact=True,width=300,depth=True)"
   ]
  },
  {
   "cell_type": "markdown",
   "id": "de0c5cdf",
   "metadata": {},
   "source": [
    "# 不加from import"
   ]
  },
  {
   "cell_type": "code",
   "execution_count": 12,
   "id": "55a2f079",
   "metadata": {},
   "outputs": [
    {
     "name": "stdout",
     "output_type": "stream",
     "text": [
      "下載成功\n"
     ]
    }
   ],
   "source": [
    "import requests\n",
    "\n",
    "url:str = 'https://data.ntpc.gov.tw/api/datasets/010e5b15-3823-4b20-b401-b1cf000550c5/csv?page=0&size=1000'\n",
    "s = requests.session()\n",
    "resopnse = s.get(url, timeout=5)\n",
    "if response.status_code == 200:\n",
    "    print(\"下載成功\")\n",
    "else:\n",
    "    print(\"下載失敗\")"
   ]
  },
  {
   "cell_type": "code",
   "execution_count": 13,
   "id": "83828047",
   "metadata": {},
   "outputs": [
    {
     "name": "stdout",
     "output_type": "stream",
     "text": [
      "'pg_connect(): Unable to connect to PostgreSQL server: connection to server at &quot;10.0.99.149&quot;, port 5432 failed: FATAL:  the database system is starting up'\n"
     ]
    }
   ],
   "source": [
    "from pprint import pprint\n",
    "pprint(response.text,compact=True,width=300,depth=True)"
   ]
  }
 ],
 "metadata": {
  "kernelspec": {
   "display_name": "myenv1",
   "language": "python",
   "name": "python3"
  },
  "language_info": {
   "codemirror_mode": {
    "name": "ipython",
    "version": 3
   },
   "file_extension": ".py",
   "mimetype": "text/x-python",
   "name": "python",
   "nbconvert_exporter": "python",
   "pygments_lexer": "ipython3",
   "version": "3.10.16"
  }
 },
 "nbformat": 4,
 "nbformat_minor": 5
}
