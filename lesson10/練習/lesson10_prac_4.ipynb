{
 "cells": [
  {
   "cell_type": "markdown",
   "id": "feb84597",
   "metadata": {},
   "source": [
    "- 找出pm2.5小於10的站點\n",
    "- 找出pm2.5最差的10個站點"
   ]
  },
  {
   "cell_type": "code",
   "execution_count": 5,
   "id": "0cad558f",
   "metadata": {},
   "outputs": [
    {
     "name": "stdout",
     "output_type": "stream",
     "text": [
      "\n",
      "------------------------------\n",
      "pm2.5最差的10個站點:\n",
      "潮州 - 87\n",
      "潮州 - 67\n",
      "潮州 - 67\n",
      "潮州 - 48\n",
      "潮州 - 47\n",
      "潮州 - 47\n",
      "潮州 - 45\n",
      "潮州 - 45\n",
      "大寮 - 45\n",
      "潮州 - 42\n"
     ]
    }
   ],
   "source": [
    "import csv\n",
    "\n",
    "target_column = 'pm2.5'\n",
    "requ_val = 10\n",
    "filtered_rows = []\n",
    "data = []\n",
    "\n",
    "with open('aqx_p_488.csv', newline='', encoding='utf-8') as csvfile:\n",
    "    reader = csv.DictReader(csvfile)\n",
    "    first_column_name = reader.fieldnames[0]  # 取得第一欄欄位名稱\n",
    "    for row in reader:\n",
    "        try:\n",
    "            val = int(row[target_column])\n",
    "            if val < requ_val:\n",
    "                filtered_rows.append((row[first_column_name], val))\n",
    "        except (ValueError, KeyError):\n",
    "            pass  \n",
    "        try:\n",
    "            row['pm2.5'] = int(row['pm2.5'])  # 轉成整數\n",
    "            data.append(row)\n",
    "        except ValueError:\n",
    "            continue  # 若有無效資料則略過\n",
    "\n",
    "#print(\"pm2.5小於10的站點\")\n",
    "\n",
    "#for i, val in enumerate(filtered_rows, start=1):\n",
    "    #print(*val, end=\" \")\n",
    "    #if i % 10 == 0:\n",
    "        #print()\n",
    "\n",
    "# 取出最低的 10 筆\n",
    "lowest10 = sorted(data, key=lambda x: x['pm2.5'],reverse=True)[:10]\n",
    "\n",
    "print()\n",
    "print(\"-\" * 30)\n",
    "\n",
    "print(\"pm2.5最差的10個站點:\")\n",
    "\n",
    "# 印出結果\n",
    "for item in lowest10:\n",
    "    print(f\"{item['sitename']} - {item['pm2.5']}\")"
   ]
  },
  {
   "cell_type": "code",
   "execution_count": null,
   "id": "6f5826dc",
   "metadata": {},
   "outputs": [
    {
     "name": "stdout",
     "output_type": "stream",
     "text": [
      "\n",
      "------------------------------\n",
      "pm2.5最差的10個站點:\n",
      "潮州 87\n",
      "大寮 45\n",
      "鳳山 39\n",
      "屏東(枋山) 38\n",
      "前鎮 37\n",
      "林園 37\n",
      "屏東（琉球） 36\n",
      "復興 36\n",
      "仁武 35\n",
      "小港 33\n"
     ]
    }
   ],
   "source": [
    "import csv\n",
    "\n",
    "requ_column = 'pm2.5'\n",
    "requ_val = 10\n",
    "filtered_rows = []\n",
    "data = []\n",
    "\n",
    "max_pm2_5 = {}\n",
    "with open(\"aqx_p_488.csv\", \"r\", encoding=\"utf-8\") as file:\n",
    "    reader = csv.DictReader(file)\n",
    "    first_column_name = reader.fieldnames[0]  # 取得第一欄欄位名稱\n",
    "    for row in reader:\n",
    "        try:\n",
    "            val = int(row[requ_column])\n",
    "            if val < requ_val:\n",
    "                filtered_rows.append((row[first_column_name], val))\n",
    "        except (ValueError, KeyError):\n",
    "            pass\n",
    "        try:\n",
    "            sitename = row[\"sitename\"]\n",
    "            row['pm2.5'] = int(row['pm2.5'])  # 確保可以排序\n",
    "            # 只保留每個 id 最早出現的那筆資料（也可以保留最大 score，那會是不同邏輯）\n",
    "            if sitename not in max_pm2_5 or int(row[\"pm2.5\"]) > int(max_pm2_5[sitename][\"pm2.5\"]):\n",
    "                max_pm2_5[sitename] = row\n",
    "        except ValueError:\n",
    "            continue  # 若有無效資料則略過\n",
    "\n",
    "#for i, val in enumerate(filtered_rows, start=1):\n",
    "    #print(*val, end=\" \")\n",
    "    #if i % 10 == 0:\n",
    "        #print()\n",
    "\n",
    "# 將資料依 score 欄位排序，取前 10 筆\n",
    "high_10 = sorted(max_pm2_5.values(), key=lambda x: float(x[\"pm2.5\"]), reverse=True)[:10]\n",
    "\n",
    "print()\n",
    "print(\"-\" * 30)\n",
    "\n",
    "print(\"pm2.5最差的10個站點:\")\n",
    "\n",
    "for item in high_10:\n",
    "    print(item[\"sitename\"], item[\"pm2.5\"])"
   ]
  },
  {
   "cell_type": "markdown",
   "id": "71d8dc96",
   "metadata": {},
   "source": [
    "# 最終完成"
   ]
  },
  {
   "cell_type": "code",
   "execution_count": 41,
   "id": "2a8ab0d4",
   "metadata": {},
   "outputs": [
    {
     "name": "stdout",
     "output_type": "stream",
     "text": [
      "pm2.5小於10的站點:\n",
      "陽明 1 線西 0 大里 1 竹東 0 林口 1 菜寮 1 竹東 0 龍潭 1 松山 1 土城 0 \n",
      "竹東 0 龍潭 1 松山 1 土城 0 新北(樹林) 1 竹東 1 松山 1 土城 0 新北(樹林) 1 竹東 1 \n",
      "松山 1 土城 0 彰化（員林） 1 陽明 0 沙鹿 1 淡水 1 萬里 1 彰化（員林） 1 陽明 0 沙鹿 1 \n",
      "淡水 1 萬里 1 彰化（員林） 1 陽明 0 豐原 0 新竹 1 土城 1 彰化（員林） 1 陽明 0 豐原 0 \n",
      "新竹 1 土城 1 宜蘭（頭城） 0 關山 0 陽明 0 新竹 0 林口 1 基隆 1 宜蘭（頭城） 0 關山 0 \n",
      "陽明 0 新竹 0 林口 1 基隆 1 宜蘭（頭城） 0 關山 1 永和 1 冬山 1 陽明 0 豐原 1 \n",
      "------------------------------\n",
      "pm2.5最差的10個站點:\n",
      "潮州 --> 87\n",
      "大寮 --> 45\n",
      "鳳山 --> 39\n",
      "屏東(枋山) --> 38\n",
      "前鎮 --> 37\n",
      "林園 --> 37\n",
      "屏東（琉球） --> 36\n",
      "復興 --> 36\n",
      "仁武 --> 35\n",
      "小港 --> 33\n"
     ]
    }
   ],
   "source": [
    "import csv\n",
    "\n",
    "requ_column = 'pm2.5'\n",
    "requ_val = 2\n",
    "filtered_rows = []\n",
    "data = []\n",
    "\n",
    "max_pm2_5 = {}\n",
    "with open(\"aqx_p_488.csv\", \"r\", encoding=\"utf-8\") as file:\n",
    "    reader = csv.DictReader(file)\n",
    "    first_column_name = reader.fieldnames[0]\n",
    "    for row in reader:\n",
    "        try:\n",
    "            val = int(row[requ_column])\n",
    "            if val < requ_val:\n",
    "                filtered_rows.append((row[first_column_name], val))\n",
    "        except (ValueError, KeyError):\n",
    "            pass\n",
    "        try:\n",
    "            sitename = row[\"sitename\"]\n",
    "            row['pm2.5'] = int(row['pm2.5'])\n",
    "            if sitename not in max_pm2_5 or int(row[\"pm2.5\"]) > int(max_pm2_5[sitename][\"pm2.5\"]):\n",
    "                max_pm2_5[sitename] = row\n",
    "        except ValueError:\n",
    "            continue  # 若有無效資料則略過\n",
    "\n",
    "print(\"pm2.5小於10的站點:\")\n",
    "\n",
    "for i, val in enumerate(filtered_rows, start=1):\n",
    "    print(*val, end=\" \")\n",
    "    if i % 10 == 0:\n",
    "        print()\n",
    "\n",
    "high_10 = sorted(max_pm2_5.values(), key=lambda x: float(x[\"pm2.5\"]), reverse=True)[:10]\n",
    "\n",
    "print(\"-\" * 30)\n",
    "print(\"pm2.5最差的10個站點:\")\n",
    "\n",
    "for item in high_10:\n",
    "    print(item[\"sitename\"], \"-->\" ,item[\"pm2.5\"])"
   ]
  }
 ],
 "metadata": {
  "kernelspec": {
   "display_name": "base",
   "language": "python",
   "name": "python3"
  },
  "language_info": {
   "codemirror_mode": {
    "name": "ipython",
    "version": 3
   },
   "file_extension": ".py",
   "mimetype": "text/x-python",
   "name": "python",
   "nbconvert_exporter": "python",
   "pygments_lexer": "ipython3",
   "version": "3.12.7"
  }
 },
 "nbformat": 4,
 "nbformat_minor": 5
}
