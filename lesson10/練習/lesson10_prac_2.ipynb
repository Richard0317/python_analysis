{
 "cells": [
  {
   "cell_type": "markdown",
   "id": "014854a2",
   "metadata": {},
   "source": [
    "- 找出pm2.5小於10的站點\n",
    "- 找出pm2.5最差的10個站點"
   ]
  },
  {
   "cell_type": "code",
   "execution_count": 21,
   "id": "edba8f4d",
   "metadata": {},
   "outputs": [
    {
     "name": "stdout",
     "output_type": "stream",
     "text": [
      "潮州 - 87\n",
      "潮州 - 67\n",
      "潮州 - 67\n",
      "潮州 - 48\n",
      "潮州 - 47\n",
      "潮州 - 47\n",
      "潮州 - 45\n",
      "潮州 - 45\n",
      "大寮 - 45\n",
      "潮州 - 42\n"
     ]
    }
   ],
   "source": [
    "import csv\n",
    "\n",
    "target_column = 'pm2.5'\n",
    "requ_val = 10\n",
    "filtered_rows = []\n",
    "results = []\n",
    "\n",
    "with open('aqx_p_488.csv', newline='', encoding='utf-8') as csvfile:\n",
    "    reader = csv.DictReader(csvfile)\n",
    "    first_column_name = reader.fieldnames[0]  # 取得第一欄欄位名稱\n",
    "    for row in reader:\n",
    "        try:\n",
    "            val = int(row[target_column])\n",
    "            if val < requ_val:\n",
    "                filtered_rows.append((row[first_column_name], val))\n",
    "        except (ValueError, KeyError):\n",
    "            pass\n",
    "        try:\n",
    "            row['pm2.5'] = int(row['pm2.5']) #多轉換成int item才有值\n",
    "            results.append({\n",
    "                'sitename': row['sitename'],\n",
    "                'pm2.5': row['pm2.5']\n",
    "            })\n",
    "        except (ValueError, KeyError):\n",
    "            continue  # 忽略格式錯誤或欄位缺失\n",
    "\n",
    "high_10 = sorted(results, key=lambda x: x['pm2.5'], reverse=True)[:10]\n",
    "\n",
    "#for first_col, val in filtered_rows:\n",
    "    #print(f\"{first_col}, {target_column}: {val}\")\n",
    "\n",
    "for item in high_10:\n",
    "    print(f\"{item['sitename']} - {item['pm2.5']}\")\n",
    "\n"
   ]
  },
  {
   "cell_type": "code",
   "execution_count": 23,
   "id": "09e43c1b",
   "metadata": {},
   "outputs": [
    {
     "name": "stdout",
     "output_type": "stream",
     "text": [
      "潮州 - 87\n",
      "潮州 - 67\n",
      "潮州 - 67\n",
      "潮州 - 48\n",
      "潮州 - 47\n",
      "潮州 - 47\n",
      "潮州 - 45\n",
      "潮州 - 45\n",
      "大寮 - 45\n",
      "潮州 - 42\n"
     ]
    }
   ],
   "source": [
    "import csv\n",
    "\n",
    "target_column = 'pm2.5'\n",
    "requ_val = 10\n",
    "filtered_rows = []\n",
    "results = []\n",
    "\n",
    "with open('aqx_p_488.csv', newline='', encoding='utf-8') as csvfile:\n",
    "    reader = csv.DictReader(csvfile)\n",
    "    first_column_name = reader.fieldnames[0]  # 取得第一欄欄位名稱\n",
    "    for row in reader:\n",
    "        try:\n",
    "            val = int(row[target_column])\n",
    "            if val < requ_val:\n",
    "                filtered_rows.append((row[first_column_name], val))\n",
    "        except (ValueError, KeyError):\n",
    "            pass\n",
    "        try:\n",
    "            row['pm2.5'] = int(row['pm2.5'])\n",
    "            results.append({\n",
    "                'sitename': row['sitename'],\n",
    "                'pm2.5': row['pm2.5']\n",
    "            })\n",
    "        except (ValueError, KeyError):\n",
    "            continue  # 忽略格式錯誤或欄位缺失\n",
    "\n",
    "high_10 = sorted(results, key=lambda x: x['pm2.5'], reverse=True)[:10]\n",
    "\n",
    "#for first_col, val in filtered_rows:\n",
    "    #print(f\"{first_col}, {target_column}: {val}\")\n",
    "\n",
    "for item in high_10:\n",
    "    print(f\"{item['sitename']} - {item['pm2.5']}\")"
   ]
  },
  {
   "cell_type": "code",
   "execution_count": null,
   "id": "9abf782b",
   "metadata": {},
   "outputs": [],
   "source": [
    "sorted_data = sorted(data, key=lambda x: x['salary'])\n",
    "\n",
    "unique_names = set()\n",
    "lowest10 = []\n",
    "\n",
    "for item in sorted_data:\n",
    "    name = item['name']\n",
    "    if name not in unique_names:\n",
    "        unique_names.add(name)\n",
    "        lowest10.append(item)\n",
    "    if len(lowest10) == 10:\n",
    "        break\n",
    "\n",
    "# 顯示結果\n",
    "for person in lowest10:\n",
    "    print(f\"{person['name']} - {person['salary']}\")"
   ]
  },
  {
   "cell_type": "code",
   "execution_count": 38,
   "id": "30261783",
   "metadata": {},
   "outputs": [
    {
     "name": "stdout",
     "output_type": "stream",
     "text": [
      "線西 - 0\n",
      "竹東 - 0\n",
      "竹東 - 0\n",
      "土城 - 0\n",
      "竹東 - 0\n",
      "土城 - 0\n",
      "土城 - 0\n",
      "土城 - 0\n",
      "陽明 - 0\n",
      "陽明 - 0\n",
      "線西 - 0\n",
      "竹東 - 0\n",
      "土城 - 0\n",
      "陽明 - 0\n"
     ]
    }
   ],
   "source": [
    "import csv\n",
    "\n",
    "results = []\n",
    "\n",
    "with open('aqx_p_488.csv', newline='', encoding='utf-8') as csvfile:\n",
    "    reader = csv.DictReader(csvfile)\n",
    "    for row in reader:\n",
    "        try:\n",
    "            row['pm2.5'] = int(row['pm2.5'])\n",
    "            results.append(row)\n",
    "        except ValueError:\n",
    "            continue  # 忽略格式錯誤或欄位缺失\n",
    "\n",
    "low_10 = sorted(results, key=lambda x: x['pm2.5'])[:10]\n",
    "\n",
    "unique_sitenames = set()\n",
    "\n",
    "for item in low_10:\n",
    "    sitename = item['sitename']\n",
    "    if sitename not in unique_sitenames:\n",
    "        unique_sitenames.add(sitename)\n",
    "        low_10.append(item)\n",
    "    if len(low_10) == 10:\n",
    "        break\n",
    "    print(f\"{item['sitename']} - {item['pm2.5']}\")\n",
    "\n",
    "    \n",
    "#for first_col, val in filtered_rows:\n",
    "    #print(f\"{first_col}, {target_column}: {val}\")\n",
    "\n",
    "    "
   ]
  },
  {
   "cell_type": "code",
   "execution_count": null,
   "id": "d9e0d753",
   "metadata": {},
   "outputs": [],
   "source": [
    "import csv\n",
    "\n",
    "data = []\n",
    "\n",
    "with open('personnels.csv', newline='', encoding='utf-8') as f:\n",
    "    reader = csv.DictReader(f)\n",
    "    for row in reader:\n",
    "        try:\n",
    "            row['salary'] = int(row['salary'])  # 將薪資轉成整數\n",
    "            data.append(row)\n",
    "        except ValueError:\n",
    "            continue  # 若有無效資料則略過\n",
    "\n",
    "# 取出薪資最低的 10 筆\n",
    "lowest10 = sorted(data, key=lambda x: x['salary'])[:10]\n",
    "\n",
    "# 印出結果\n",
    "for item in lowest10:\n",
    "    print(f\"{item['name']} - {item['department']} - {item['salary']}\")"
   ]
  },
  {
   "cell_type": "code",
   "execution_count": 6,
   "id": "d8ac1251",
   "metadata": {},
   "outputs": [
    {
     "name": "stdout",
     "output_type": "stream",
     "text": [
      "高雄（湖內） - 9\n",
      "金門 - 9\n",
      "花蓮 - 9\n",
      "新莊 - 9\n",
      "高雄（湖內） - 9\n",
      "高雄（湖內） - 9\n",
      "新營 - 9\n",
      "新營 - 9\n",
      "崙背 - 9\n",
      "斗六 - 9\n"
     ]
    }
   ],
   "source": [
    "import csv\n",
    "\n",
    "target_column = 'pm2.5'\n",
    "requ_val = 10\n",
    "filtered_rows = []\n",
    "results = []\n",
    "\n",
    "with open('aqx_p_488.csv', newline='', encoding='utf-8') as csvfile:\n",
    "    reader = csv.DictReader(csvfile)\n",
    "    first_column_name = reader.fieldnames[0]  # 取得第一欄欄位名稱\n",
    "    for row in reader:\n",
    "        try:\n",
    "            results.append({\n",
    "                'sitename': row['sitename'],\n",
    "                'pm2.5': row['pm2.5']\n",
    "            })\n",
    "        except (ValueError, KeyError):\n",
    "            continue  # 忽略格式錯誤或欄位缺失\n",
    "\n",
    "top10 = sorted(results, key=lambda x: x['pm2.5'], reverse=True)[:10]\n",
    "\n",
    "#for first_col, val in filtered_rows:\n",
    "    #print(f\"{first_col}, {target_column}: {val}\")\n",
    "\n",
    "for item in top10:\n",
    "    print(f\"{item['sitename']} - {item['pm2.5']}\")"
   ]
  }
 ],
 "metadata": {
  "kernelspec": {
   "display_name": "base",
   "language": "python",
   "name": "python3"
  },
  "language_info": {
   "codemirror_mode": {
    "name": "ipython",
    "version": 3
   },
   "file_extension": ".py",
   "mimetype": "text/x-python",
   "name": "python",
   "nbconvert_exporter": "python",
   "pygments_lexer": "ipython3",
   "version": "3.12.7"
  }
 },
 "nbformat": 4,
 "nbformat_minor": 5
}
