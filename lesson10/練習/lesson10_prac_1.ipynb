{
 "cells": [
  {
   "cell_type": "code",
   "execution_count": 3,
   "id": "15a1cb5c",
   "metadata": {},
   "outputs": [
    {
     "name": "stdout",
     "output_type": "stream",
     "text": [
      "花蓮 - \n",
      "恆春 - \n",
      "前金 - \n",
      "花蓮 - \n",
      "恆春 - \n",
      "前金 - \n",
      "麥寮 - \n",
      "花蓮 - \n",
      "前金 - \n",
      "新營 - \n"
     ]
    }
   ],
   "source": [
    "import csv\n",
    "\n",
    "results = []\n",
    "\n",
    "with open('aqx_p_488.csv', newline='', encoding='utf-8') as f:\n",
    "    reader = csv.DictReader(f)\n",
    "    \n",
    "    # 將每筆資料轉成 dict 並將 salary 轉為 int\n",
    "    for row in reader:\n",
    "        try:\n",
    "            results.append({\n",
    "                'sitename': row['sitename'],\n",
    "                'pm2.5': row['pm2.5']\n",
    "            })\n",
    "        except (ValueError, KeyError):\n",
    "            continue  # 忽略格式錯誤或欄位缺失\n",
    "\n",
    "# 依照 salary 降冪排序，取前 10 筆\n",
    "top10 = sorted(results, key=lambda x: x['pm2.5'])[:10]\n",
    "\n",
    "# 顯示結果\n",
    "for item in top10:\n",
    "    print(f\"{item['sitename']} - {item['pm2.5']}\")"
   ]
  }
 ],
 "metadata": {
  "kernelspec": {
   "display_name": "base",
   "language": "python",
   "name": "python3"
  },
  "language_info": {
   "codemirror_mode": {
    "name": "ipython",
    "version": 3
   },
   "file_extension": ".py",
   "mimetype": "text/x-python",
   "name": "python",
   "nbconvert_exporter": "python",
   "pygments_lexer": "ipython3",
   "version": "3.12.7"
  }
 },
 "nbformat": 4,
 "nbformat_minor": 5
}
