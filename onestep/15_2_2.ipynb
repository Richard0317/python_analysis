{
 "cells": [
  {
   "cell_type": "code",
   "execution_count": null,
   "id": "9f596ef4",
   "metadata": {},
   "outputs": [
    {
     "name": "stdout",
     "output_type": "stream",
     "text": [
      "{'drink': ['啤酒', '咖啡', '紅茶'], 'dessert': ['蛋糕', '餅乾', '泡芙']}\n"
     ]
    }
   ],
   "source": [
    "import pandas as pd\n",
    "data1 = [{'a':1., 'b':2.,'c':3.},{'a':4., 'b':5.,'c':6.,'d':7.}]\n",
    "df1 = pd.DataFrame(data1)\n",
    "df1\n",
    "df1.index\n",
    "df1.columns\n",
    "df1[['a','c']]\n",
    "df1['a'][0]\n",
    "df1[:1]\n",
    "pd.DataFrame(data1, index = ['first','secnod'])\n",
    "pd.DataFrame(data1, index = ['first','secnod'], columns = ['d','b','a'])\n",
    "data = {'drink':['啤酒', '咖啡', '紅茶'],'dessert':['蛋糕', '餅乾', '泡芙']}\n",
    "pd.DataFrame(data)\n"
   ]
  },
  {
   "cell_type": "code",
   "execution_count": 25,
   "id": "6ee2a4da",
   "metadata": {},
   "outputs": [
    {
     "name": "stdout",
     "output_type": "stream",
     "text": [
      "{'drink': ['啤酒', '咖啡', '紅茶'], 'dessert': ['蛋糕', '餅乾', '泡芙']}\n",
      "Key: drink, Value: ['啤酒', '咖啡', '紅茶']\n",
      "Key: dessert, Value: ['蛋糕', '餅乾', '泡芙']\n"
     ]
    }
   ],
   "source": [
    "data = {'drink':['啤酒', '咖啡', '紅茶'],'dessert':['蛋糕', '餅乾', '泡芙']}\n",
    "print(data)\n",
    "for key, value in data.items():\n",
    "    print(f\"Key: {key}, Value: {value}\")"
   ]
  }
 ],
 "metadata": {
  "kernelspec": {
   "display_name": "base",
   "language": "python",
   "name": "python3"
  },
  "language_info": {
   "codemirror_mode": {
    "name": "ipython",
    "version": 3
   },
   "file_extension": ".py",
   "mimetype": "text/x-python",
   "name": "python",
   "nbconvert_exporter": "python",
   "pygments_lexer": "ipython3",
   "version": "3.12.7"
  }
 },
 "nbformat": 4,
 "nbformat_minor": 5
}
