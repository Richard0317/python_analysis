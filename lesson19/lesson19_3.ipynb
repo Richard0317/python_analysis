{
 "cells": [
  {
   "cell_type": "markdown",
   "id": "2bc809e4",
   "metadata": {},
   "source": [
    "https://www.perplexity.ai/search/c7c67e8b-1075-40c1-ab9e-69b6324a8954"
   ]
  },
  {
   "cell_type": "code",
   "execution_count": null,
   "id": "d9d6a2d1",
   "metadata": {},
   "outputs": [],
   "source": [
    "!pip install yfinance"
   ]
  },
  {
   "cell_type": "code",
   "execution_count": 2,
   "id": "a314eb01",
   "metadata": {},
   "outputs": [
    {
     "name": "stderr",
     "output_type": "stream",
     "text": [
      "[*********************100%***********************]  1 of 1 completed\n"
     ]
    },
    {
     "data": {
      "text/html": [
       "<div>\n",
       "<style scoped>\n",
       "    .dataframe tbody tr th:only-of-type {\n",
       "        vertical-align: middle;\n",
       "    }\n",
       "\n",
       "    .dataframe tbody tr th {\n",
       "        vertical-align: top;\n",
       "    }\n",
       "\n",
       "    .dataframe thead tr th {\n",
       "        text-align: left;\n",
       "    }\n",
       "\n",
       "    .dataframe thead tr:last-of-type th {\n",
       "        text-align: right;\n",
       "    }\n",
       "</style>\n",
       "<table border=\"1\" class=\"dataframe\">\n",
       "  <thead>\n",
       "    <tr>\n",
       "      <th>Price</th>\n",
       "      <th>Adj Close</th>\n",
       "      <th>Close</th>\n",
       "      <th>High</th>\n",
       "      <th>Low</th>\n",
       "      <th>Open</th>\n",
       "      <th>Volume</th>\n",
       "    </tr>\n",
       "    <tr>\n",
       "      <th>Ticker</th>\n",
       "      <th>0050.TW</th>\n",
       "      <th>0050.TW</th>\n",
       "      <th>0050.TW</th>\n",
       "      <th>0050.TW</th>\n",
       "      <th>0050.TW</th>\n",
       "      <th>0050.TW</th>\n",
       "    </tr>\n",
       "    <tr>\n",
       "      <th>Date</th>\n",
       "      <th></th>\n",
       "      <th></th>\n",
       "      <th></th>\n",
       "      <th></th>\n",
       "      <th></th>\n",
       "      <th></th>\n",
       "    </tr>\n",
       "  </thead>\n",
       "  <tbody>\n",
       "    <tr>\n",
       "      <th>2024-01-02</th>\n",
       "      <td>129.367722</td>\n",
       "      <td>134.899994</td>\n",
       "      <td>135.949997</td>\n",
       "      <td>134.649994</td>\n",
       "      <td>135.600006</td>\n",
       "      <td>5922076</td>\n",
       "    </tr>\n",
       "    <tr>\n",
       "      <th>2024-01-03</th>\n",
       "      <td>127.114105</td>\n",
       "      <td>132.550003</td>\n",
       "      <td>133.899994</td>\n",
       "      <td>132.300003</td>\n",
       "      <td>133.699997</td>\n",
       "      <td>13547475</td>\n",
       "    </tr>\n",
       "    <tr>\n",
       "      <th>2024-01-04</th>\n",
       "      <td>127.066154</td>\n",
       "      <td>132.500000</td>\n",
       "      <td>132.750000</td>\n",
       "      <td>132.300003</td>\n",
       "      <td>132.550003</td>\n",
       "      <td>4567593</td>\n",
       "    </tr>\n",
       "    <tr>\n",
       "      <th>2024-01-05</th>\n",
       "      <td>126.730507</td>\n",
       "      <td>132.149994</td>\n",
       "      <td>132.949997</td>\n",
       "      <td>132.100006</td>\n",
       "      <td>132.550003</td>\n",
       "      <td>3999671</td>\n",
       "    </tr>\n",
       "    <tr>\n",
       "      <th>2024-01-08</th>\n",
       "      <td>127.305893</td>\n",
       "      <td>132.750000</td>\n",
       "      <td>133.600006</td>\n",
       "      <td>132.750000</td>\n",
       "      <td>133.000000</td>\n",
       "      <td>9394720</td>\n",
       "    </tr>\n",
       "    <tr>\n",
       "      <th>...</th>\n",
       "      <td>...</td>\n",
       "      <td>...</td>\n",
       "      <td>...</td>\n",
       "      <td>...</td>\n",
       "      <td>...</td>\n",
       "      <td>...</td>\n",
       "    </tr>\n",
       "    <tr>\n",
       "      <th>2024-05-27</th>\n",
       "      <td>169.724915</td>\n",
       "      <td>172.949997</td>\n",
       "      <td>173.399994</td>\n",
       "      <td>171.750000</td>\n",
       "      <td>171.750000</td>\n",
       "      <td>5685420</td>\n",
       "    </tr>\n",
       "    <tr>\n",
       "      <th>2024-05-28</th>\n",
       "      <td>169.970261</td>\n",
       "      <td>173.199997</td>\n",
       "      <td>173.399994</td>\n",
       "      <td>172.500000</td>\n",
       "      <td>172.949997</td>\n",
       "      <td>5524704</td>\n",
       "    </tr>\n",
       "    <tr>\n",
       "      <th>2024-05-29</th>\n",
       "      <td>167.664093</td>\n",
       "      <td>170.850006</td>\n",
       "      <td>172.500000</td>\n",
       "      <td>170.550003</td>\n",
       "      <td>172.449997</td>\n",
       "      <td>6796954</td>\n",
       "    </tr>\n",
       "    <tr>\n",
       "      <th>2024-05-30</th>\n",
       "      <td>164.769089</td>\n",
       "      <td>167.899994</td>\n",
       "      <td>169.000000</td>\n",
       "      <td>167.699997</td>\n",
       "      <td>168.000000</td>\n",
       "      <td>9277512</td>\n",
       "    </tr>\n",
       "    <tr>\n",
       "      <th>2024-05-31</th>\n",
       "      <td>162.904526</td>\n",
       "      <td>166.000000</td>\n",
       "      <td>168.899994</td>\n",
       "      <td>166.000000</td>\n",
       "      <td>168.250000</td>\n",
       "      <td>8286711</td>\n",
       "    </tr>\n",
       "  </tbody>\n",
       "</table>\n",
       "<p>98 rows × 6 columns</p>\n",
       "</div>"
      ],
      "text/plain": [
       "Price        Adj Close       Close        High         Low        Open  \\\n",
       "Ticker         0050.TW     0050.TW     0050.TW     0050.TW     0050.TW   \n",
       "Date                                                                     \n",
       "2024-01-02  129.367722  134.899994  135.949997  134.649994  135.600006   \n",
       "2024-01-03  127.114105  132.550003  133.899994  132.300003  133.699997   \n",
       "2024-01-04  127.066154  132.500000  132.750000  132.300003  132.550003   \n",
       "2024-01-05  126.730507  132.149994  132.949997  132.100006  132.550003   \n",
       "2024-01-08  127.305893  132.750000  133.600006  132.750000  133.000000   \n",
       "...                ...         ...         ...         ...         ...   \n",
       "2024-05-27  169.724915  172.949997  173.399994  171.750000  171.750000   \n",
       "2024-05-28  169.970261  173.199997  173.399994  172.500000  172.949997   \n",
       "2024-05-29  167.664093  170.850006  172.500000  170.550003  172.449997   \n",
       "2024-05-30  164.769089  167.899994  169.000000  167.699997  168.000000   \n",
       "2024-05-31  162.904526  166.000000  168.899994  166.000000  168.250000   \n",
       "\n",
       "Price         Volume  \n",
       "Ticker       0050.TW  \n",
       "Date                  \n",
       "2024-01-02   5922076  \n",
       "2024-01-03  13547475  \n",
       "2024-01-04   4567593  \n",
       "2024-01-05   3999671  \n",
       "2024-01-08   9394720  \n",
       "...              ...  \n",
       "2024-05-27   5685420  \n",
       "2024-05-28   5524704  \n",
       "2024-05-29   6796954  \n",
       "2024-05-30   9277512  \n",
       "2024-05-31   8286711  \n",
       "\n",
       "[98 rows x 6 columns]"
      ]
     },
     "execution_count": 2,
     "metadata": {},
     "output_type": "execute_result"
    }
   ],
   "source": [
    "import yfinance as yf\n",
    "ticker = '0050.TW'  # 台灣50 ETF\n",
    "start_date = '2024-01-01'\n",
    "end_date = '2024-06-01'\n",
    "\n",
    "data = yf.download(ticker, start=start_date, end=end_date, interval='1d',auto_adjust=False)\n",
    "data"
   ]
  },
  {
   "cell_type": "code",
   "execution_count": 3,
   "id": "58ae452e",
   "metadata": {},
   "outputs": [
    {
     "name": "stderr",
     "output_type": "stream",
     "text": [
      "[*********************100%***********************]  1 of 1 completed\n"
     ]
    },
    {
     "data": {
      "text/plain": [
       "Date\n",
       "2024-01-02    582.770691\n",
       "2024-01-03    568.029480\n",
       "2024-01-04    569.994995\n",
       "2024-01-05    566.064026\n",
       "2024-01-08    572.943237\n",
       "                 ...    \n",
       "2024-05-27    857.997498\n",
       "2024-05-28    854.048157\n",
       "2024-05-29    846.149414\n",
       "2024-05-30    827.390015\n",
       "2024-05-31    810.605286\n",
       "Name: 2330.TW, Length: 98, dtype: float64"
      ]
     },
     "execution_count": 3,
     "metadata": {},
     "output_type": "execute_result"
    }
   ],
   "source": [
    "import yfinance as yf\n",
    "ticker = '2330.TW'  # 台灣50 ETF\n",
    "start_date = '2024-01-01'\n",
    "end_date = '2024-06-01'\n",
    "\n",
    "data = yf.download(ticker, start=start_date, end=end_date, interval='1d',auto_adjust=False)\n",
    "data['Adj Close']['2330.TW']"
   ]
  },
  {
   "cell_type": "code",
   "execution_count": 4,
   "id": "8139b296",
   "metadata": {},
   "outputs": [
    {
     "name": "stderr",
     "output_type": "stream",
     "text": [
      "[*********************100%***********************]  1 of 1 completed\n",
      "[*********************100%***********************]  1 of 1 completed\n",
      "[*********************100%***********************]  1 of 1 completed\n",
      "[*********************100%***********************]  1 of 1 completed\n"
     ]
    }
   ],
   "source": [
    "from pandas import DataFrame\n",
    "start_date = '2024-01-01'\n",
    "end_date = '2025-01-01'\n",
    "\n",
    "tickers = ['2330.TW', '2303.TW', '2454.TW', '2317.TW']\n",
    "all_data:dict[str:DataFrame]= {ticker: yf.download(ticker,start=start_date, end=end_date, interval='1d',auto_adjust=False) for ticker in tickers }"
   ]
  },
  {
   "cell_type": "code",
   "execution_count": null,
   "id": "53475c6b",
   "metadata": {},
   "outputs": [],
   "source": [
    "all_data"
   ]
  },
  {
   "cell_type": "code",
   "execution_count": 6,
   "id": "e9e6ab03",
   "metadata": {},
   "outputs": [
    {
     "data": {
      "text/html": [
       "<div>\n",
       "<style scoped>\n",
       "    .dataframe tbody tr th:only-of-type {\n",
       "        vertical-align: middle;\n",
       "    }\n",
       "\n",
       "    .dataframe tbody tr th {\n",
       "        vertical-align: top;\n",
       "    }\n",
       "\n",
       "    .dataframe thead th {\n",
       "        text-align: right;\n",
       "    }\n",
       "</style>\n",
       "<table border=\"1\" class=\"dataframe\">\n",
       "  <thead>\n",
       "    <tr style=\"text-align: right;\">\n",
       "      <th></th>\n",
       "      <th>台積電</th>\n",
       "      <th>聯電</th>\n",
       "      <th>聯發科</th>\n",
       "      <th>鴻海</th>\n",
       "    </tr>\n",
       "    <tr>\n",
       "      <th>Date</th>\n",
       "      <th></th>\n",
       "      <th></th>\n",
       "      <th></th>\n",
       "      <th></th>\n",
       "    </tr>\n",
       "  </thead>\n",
       "  <tbody>\n",
       "    <tr>\n",
       "      <th>2024-01-02</th>\n",
       "      <td>582.770752</td>\n",
       "      <td>49.163513</td>\n",
       "      <td>915.833191</td>\n",
       "      <td>102.375000</td>\n",
       "    </tr>\n",
       "    <tr>\n",
       "      <th>2024-01-03</th>\n",
       "      <td>568.029541</td>\n",
       "      <td>47.932056</td>\n",
       "      <td>889.693176</td>\n",
       "      <td>101.887505</td>\n",
       "    </tr>\n",
       "    <tr>\n",
       "      <th>2024-01-04</th>\n",
       "      <td>569.994934</td>\n",
       "      <td>48.121510</td>\n",
       "      <td>889.309875</td>\n",
       "      <td>101.400002</td>\n",
       "    </tr>\n",
       "    <tr>\n",
       "      <th>2024-01-05</th>\n",
       "      <td>566.064026</td>\n",
       "      <td>48.121510</td>\n",
       "      <td>882.601685</td>\n",
       "      <td>101.400002</td>\n",
       "    </tr>\n",
       "    <tr>\n",
       "      <th>2024-01-08</th>\n",
       "      <td>572.943237</td>\n",
       "      <td>47.837330</td>\n",
       "      <td>881.643372</td>\n",
       "      <td>98.962502</td>\n",
       "    </tr>\n",
       "    <tr>\n",
       "      <th>...</th>\n",
       "      <td>...</td>\n",
       "      <td>...</td>\n",
       "      <td>...</td>\n",
       "      <td>...</td>\n",
       "    </tr>\n",
       "    <tr>\n",
       "      <th>2024-12-25</th>\n",
       "      <td>1075.403198</td>\n",
       "      <td>44.049999</td>\n",
       "      <td>1381.102417</td>\n",
       "      <td>186.500000</td>\n",
       "    </tr>\n",
       "    <tr>\n",
       "      <th>2024-12-26</th>\n",
       "      <td>1075.403198</td>\n",
       "      <td>43.700001</td>\n",
       "      <td>1390.897583</td>\n",
       "      <td>187.500000</td>\n",
       "    </tr>\n",
       "    <tr>\n",
       "      <th>2024-12-27</th>\n",
       "      <td>1080.358887</td>\n",
       "      <td>43.599998</td>\n",
       "      <td>1400.692627</td>\n",
       "      <td>186.500000</td>\n",
       "    </tr>\n",
       "    <tr>\n",
       "      <th>2024-12-30</th>\n",
       "      <td>1080.358887</td>\n",
       "      <td>43.099998</td>\n",
       "      <td>1390.897583</td>\n",
       "      <td>185.000000</td>\n",
       "    </tr>\n",
       "    <tr>\n",
       "      <th>2024-12-31</th>\n",
       "      <td>1065.491699</td>\n",
       "      <td>43.049999</td>\n",
       "      <td>1386.000000</td>\n",
       "      <td>184.000000</td>\n",
       "    </tr>\n",
       "  </tbody>\n",
       "</table>\n",
       "<p>242 rows × 4 columns</p>\n",
       "</div>"
      ],
      "text/plain": [
       "                    台積電         聯電          聯發科          鴻海\n",
       "Date                                                       \n",
       "2024-01-02   582.770752  49.163513   915.833191  102.375000\n",
       "2024-01-03   568.029541  47.932056   889.693176  101.887505\n",
       "2024-01-04   569.994934  48.121510   889.309875  101.400002\n",
       "2024-01-05   566.064026  48.121510   882.601685  101.400002\n",
       "2024-01-08   572.943237  47.837330   881.643372   98.962502\n",
       "...                 ...        ...          ...         ...\n",
       "2024-12-25  1075.403198  44.049999  1381.102417  186.500000\n",
       "2024-12-26  1075.403198  43.700001  1390.897583  187.500000\n",
       "2024-12-27  1080.358887  43.599998  1400.692627  186.500000\n",
       "2024-12-30  1080.358887  43.099998  1390.897583  185.000000\n",
       "2024-12-31  1065.491699  43.049999  1386.000000  184.000000\n",
       "\n",
       "[242 rows x 4 columns]"
      ]
     },
     "execution_count": 6,
     "metadata": {},
     "output_type": "execute_result"
    }
   ],
   "source": [
    "import pandas as pd\n",
    "\n",
    "price_df = pd.DataFrame({key:dataframe['Adj Close'][key] for key,dataframe in all_data.items()})\n",
    "price_df1 = price_df.rename(columns={'2330.TW':'台積電','2303.TW':'聯電','2454.TW':'聯發科','2317.TW':'鴻海'})\n",
    "price_df1"
   ]
  },
  {
   "cell_type": "code",
   "execution_count": 7,
   "id": "87fdff6f",
   "metadata": {},
   "outputs": [
    {
     "name": "stdout",
     "output_type": "stream",
     "text": [
      "<class 'pandas.core.frame.DataFrame'>\n",
      "DatetimeIndex: 242 entries, 2024-01-02 to 2024-12-31\n",
      "Data columns (total 4 columns):\n",
      " #   Column  Non-Null Count  Dtype  \n",
      "---  ------  --------------  -----  \n",
      " 0   台積電     242 non-null    float64\n",
      " 1   聯電      242 non-null    float64\n",
      " 2   聯發科     242 non-null    float64\n",
      " 3   鴻海      242 non-null    float64\n",
      "dtypes: float64(4)\n",
      "memory usage: 9.5 KB\n"
     ]
    }
   ],
   "source": [
    "price_df1.info()"
   ]
  },
  {
   "cell_type": "code",
   "execution_count": 8,
   "id": "fbc7fd63",
   "metadata": {},
   "outputs": [
    {
     "data": {
      "text/html": [
       "<div>\n",
       "<style scoped>\n",
       "    .dataframe tbody tr th:only-of-type {\n",
       "        vertical-align: middle;\n",
       "    }\n",
       "\n",
       "    .dataframe tbody tr th {\n",
       "        vertical-align: top;\n",
       "    }\n",
       "\n",
       "    .dataframe thead th {\n",
       "        text-align: right;\n",
       "    }\n",
       "</style>\n",
       "<table border=\"1\" class=\"dataframe\">\n",
       "  <thead>\n",
       "    <tr style=\"text-align: right;\">\n",
       "      <th></th>\n",
       "      <th>台積電</th>\n",
       "      <th>聯電</th>\n",
       "      <th>聯發科</th>\n",
       "      <th>鴻海</th>\n",
       "    </tr>\n",
       "  </thead>\n",
       "  <tbody>\n",
       "    <tr>\n",
       "      <th>台積電</th>\n",
       "      <td>1.000000</td>\n",
       "      <td>0.134518</td>\n",
       "      <td>0.884534</td>\n",
       "      <td>0.935593</td>\n",
       "    </tr>\n",
       "    <tr>\n",
       "      <th>聯電</th>\n",
       "      <td>0.134518</td>\n",
       "      <td>1.000000</td>\n",
       "      <td>0.143217</td>\n",
       "      <td>0.294091</td>\n",
       "    </tr>\n",
       "    <tr>\n",
       "      <th>聯發科</th>\n",
       "      <td>0.884534</td>\n",
       "      <td>0.143217</td>\n",
       "      <td>1.000000</td>\n",
       "      <td>0.831721</td>\n",
       "    </tr>\n",
       "    <tr>\n",
       "      <th>鴻海</th>\n",
       "      <td>0.935593</td>\n",
       "      <td>0.294091</td>\n",
       "      <td>0.831721</td>\n",
       "      <td>1.000000</td>\n",
       "    </tr>\n",
       "  </tbody>\n",
       "</table>\n",
       "</div>"
      ],
      "text/plain": [
       "          台積電        聯電       聯發科        鴻海\n",
       "台積電  1.000000  0.134518  0.884534  0.935593\n",
       "聯電   0.134518  1.000000  0.143217  0.294091\n",
       "聯發科  0.884534  0.143217  1.000000  0.831721\n",
       "鴻海   0.935593  0.294091  0.831721  1.000000"
      ]
     },
     "execution_count": 8,
     "metadata": {},
     "output_type": "execute_result"
    }
   ],
   "source": [
    "price_df1.corr()"
   ]
  },
  {
   "cell_type": "code",
   "execution_count": 9,
   "id": "8e4d5a49",
   "metadata": {},
   "outputs": [
    {
     "data": {
      "text/plain": [
       "'ChineseFont.ttf'"
      ]
     },
     "execution_count": 9,
     "metadata": {},
     "output_type": "execute_result"
    }
   ],
   "source": [
    "import wget\n",
    "wget.download(\"https://github.com/roberthsu2003/machine_learning/raw/refs/heads/main/source_data/ChineseFont.ttf\")"
   ]
  },
  {
   "cell_type": "code",
   "execution_count": 10,
   "id": "5afea187",
   "metadata": {},
   "outputs": [],
   "source": [
    "import matplotlib as mpl\n",
    "from matplotlib.font_manager import fontManager\n",
    "\n",
    "fontManager.addfont(\"ChineseFont.ttf\")\n",
    "mpl.rc('font', family=\"ChineseFont\")"
   ]
  },
  {
   "cell_type": "code",
   "execution_count": 11,
   "id": "803bb541",
   "metadata": {},
   "outputs": [
    {
     "data": {
      "text/plain": [
       "<Axes: xlabel='Date'>"
      ]
     },
     "execution_count": 11,
     "metadata": {},
     "output_type": "execute_result"
    },
    {
     "data": {
      "image/png": "[encoded data removed]",
      "text/plain": [
       "<Figure size 1600x800 with 1 Axes>"
      ]
     },
     "metadata": {},
     "output_type": "display_data"
    }
   ],
   "source": [
    "import matplotlib.pyplot as plt\n",
    "figure = plt.figure(figsize=(16,8))\n",
    "axes = figure.add_subplot()\n",
    "price_df1.plot.line(ax=axes)"
   ]
  }
 ],
 "metadata": {
  "kernelspec": {
   "display_name": "myenv",
   "language": "python",
   "name": "python3"
  },
  "language_info": {
   "codemirror_mode": {
    "name": "ipython",
    "version": 3
   },
   "file_extension": ".py",
   "mimetype": "text/x-python",
   "name": "python",
   "nbconvert_exporter": "python",
   "pygments_lexer": "ipython3",
   "version": "3.10.16"
  }
 },
 "nbformat": 4,
 "nbformat_minor": 5
}
