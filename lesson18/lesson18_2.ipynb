{
 "cells": [
  {
   "cell_type": "code",
   "execution_count": null,
   "id": "09a1de98",
   "metadata": {},
   "outputs": [],
   "source": [
    "import pandas as pd\n",
    "from pandas import DataFrame\n",
    "\n",
    "df:DataFrame = pd.read_csv('各鄉鎮市區人口密度.csv')\n",
    "df1 = df.drop(index=0)\n",
    "df2 = df1.rename(columns={'statistic_yyy':'統計年',\n",
    "    'site_id':'區域別',\n",
    "    'people_total':'年底人口數',\n",
    "    'area':'土地面積',\n",
    "    'population_density':'人口密度'})\n",
    "df3 = df2.dropna()\n",
    "df4 = df3.replace('… ',0)\n",
    "df4['年底人口數'] = df4['年底人口數'].astype(int)\n",
    "df4['土地面積'] = df4['土地面積'].astype(float)\n",
    "df4['人口密度'] = df4['人口密度'].astype(int)\n",
    "def get_area(value:str) -> str:\n",
    "    if len(value)>4:\n",
    "        return value[:3]\n",
    "    else:\n",
    "        return value\n",
    "\n",
    "\n",
    "df4['縣市'] = df4['區域別'].apply(get_area)\n",
    "def delete_area(value:str,n) -> str:\n",
    "    if len(value)>n:\n",
    "        return value[-3:]\n",
    "    else:\n",
    "        return value\n",
    "\n",
    "df4['區域別'] = df4['區域別'].apply(delete_area,n=4)\n",
    "df5 = df4.reindex(columns=['縣市','區域別','年底人口數','土地面積','人口密度'])\n",
    "df5"
   ]
  },
  {
   "cell_type": "code",
   "execution_count": null,
   "id": "5fcab022",
   "metadata": {},
   "outputs": [],
   "source": [
    "!pip install openpyxl"
   ]
  },
  {
   "cell_type": "code",
   "execution_count": null,
   "id": "62441a22",
   "metadata": {},
   "outputs": [],
   "source": [
    "df5.to_excel('人口.xlsx',sheet_name='工作表1',index=False)"
   ]
  }
 ],
 "metadata": {
  "kernelspec": {
   "display_name": "myenv",
   "language": "python",
   "name": "python3"
  },
  "language_info": {
   "name": "python",
   "version": "3.10.16"
  }
 },
 "nbformat": 4,
 "nbformat_minor": 5
}
