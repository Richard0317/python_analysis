{
 "cells": [
  {
   "cell_type": "markdown",
   "id": "74341163",
   "metadata": {},
   "source": [
    "- name,age,email\n",
    "- Alice,30,alice@example.com\n",
    "- Bob,25,bob@example.com\n",
    "- Charlie,35,charlie@example.com"
   ]
  },
  {
   "cell_type": "code",
   "execution_count": 1,
   "id": "fb12d6dc",
   "metadata": {},
   "outputs": [
    {
     "name": "stdout",
     "output_type": "stream",
     "text": [
      "employees.csv 已成功儲存\n"
     ]
    }
   ],
   "source": [
    "import csv\n",
    "\n",
    "employees = [\n",
    "    {'name': 'Alice', 'age': 30, 'email': 'alice@example.com'},\n",
    "    {'name': 'Bob', 'age': 25, 'email': 'bob@example.com'},\n",
    "    {'name': 'Charlie', 'age': 35, 'email': 'charlie@example.com'}\n",
    "]\n",
    "\n",
    "# 取得欄位名稱（CSV 標題）\n",
    "fieldnames = employees[0].keys()\n",
    "\n",
    "with open('employees.csv', mode='w', encoding='utf-8', newline='') as file:\n",
    "    writer = csv.DictWriter(file, fieldnames=fieldnames)\n",
    "    writer.writeheader()       # 寫入欄位名稱\n",
    "    writer.writerows(employees) # 寫入多筆資料列\n",
    "\n",
    "print(\"employees.csv 已成功儲存\")"
   ]
  },
  {
   "cell_type": "code",
   "execution_count": 4,
   "id": "80d07ccd",
   "metadata": {},
   "outputs": [
    {
     "name": "stdout",
     "output_type": "stream",
     "text": [
      "Alice - 30\n",
      "Bob - 25\n",
      "Charlie - 35\n"
     ]
    }
   ],
   "source": [
    "import csv\n",
    "\n",
    "with open('employees.csv', newline='', encoding='utf-8') as csvfile:\n",
    "    reader = csv.DictReader(csvfile)\n",
    "    for row in reader:\n",
    "        name = row['name']\n",
    "        age = row['age']\n",
    "        email = row['email']\n",
    "        print(f\"{name} - {age}\")"
   ]
  }
 ],
 "metadata": {
  "kernelspec": {
   "display_name": "base",
   "language": "python",
   "name": "python3"
  },
  "language_info": {
   "codemirror_mode": {
    "name": "ipython",
    "version": 3
   },
   "file_extension": ".py",
   "mimetype": "text/x-python",
   "name": "python",
   "nbconvert_exporter": "python",
   "pygments_lexer": "ipython3",
   "version": "3.12.7"
  }
 },
 "nbformat": 4,
 "nbformat_minor": 5
}
