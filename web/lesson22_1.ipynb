{
 "cells": [
  {
   "cell_type": "code",
   "execution_count": 2,
   "id": "bd500d34",
   "metadata": {},
   "outputs": [
    {
     "name": "stdout",
     "output_type": "stream",
     "text": [
      "天空之所以是藍色的，主要是因為一種叫做**瑞利散射 (Rayleigh Scattering)** 的現象，它解釋了陽光在地球大氣中如何散射。\n",
      "\n",
      "讓我們來一步步了解：\n",
      "\n",
      "1.  **陽光是「白色」的：** 其實，我們看到的陽光是由各種不同顏色的光（紅、橙、黃、綠、藍、靛、紫）混合而成的，就像彩虹一樣。這些不同顏色的光有不同的波長，藍、靛、紫光的波長較短，而紅、橙、黃光的波長較長。\n",
      "\n",
      "2.  **地球大氣層的組成：** 地球的大氣層中充滿了微小的氣體分子（主要是氮氣和氧氣）和微塵粒子。這些粒子的大小比光的波長小得多。\n",
      "\n",
      "3.  **瑞利散射：**\n",
      "    *   當陽光射入地球大氣層時，波長較短的藍、靛、紫光更容易被大氣中的小粒子散射開來，它們被「彈開」的方向更多、更分散。\n",
      "    *   波長較長的紅、橙、黃光則不容易被散射，它們會比較直線地穿過大氣層。\n",
      "    *   想像一下，你丟一顆小球去撞擊一堆小石頭，小球更容易被彈開；如果你丟一個大球，它就比較容易穿過去。藍光就像小球，大氣粒子就像小石頭。\n",
      "\n",
      "4.  **為什麼是藍色而不是紫色？**\n",
      "    *   雖然紫光的波長比藍光更短，散射程度理應更高。但是，陽光中本身紫光的成分就比藍光少。\n",
      "    *   更重要的是，**人眼對藍光的敏感度比對紫光高得多**。\n",
      "    *   因此，綜合這兩點，我們看到的天空主要是藍色。\n",
      "\n",
      "5.  **散射的方向性：**\n",
      "    *   當你抬頭看天空時，你看到的是被大氣粒子散射到你眼睛裡的藍光。這些藍光來自四面八方，所以整個天空看起來都是藍色的。\n",
      "    *   正午時分，太陽在頭頂，陽光穿過的大氣層最短，散射的藍光最少，所以太陽附近的顏色會更接近白色。\n",
      "    *   在日出或日落時，陽光需要穿過更厚、更長的大氣層才能到達我們的眼睛。這時候，幾乎所有的藍光和紫光都被散射掉了，只剩下波長較長的紅、橙、黃光能夠直接穿透過來，所以我們看到的日出日落是紅色或橙色的。\n",
      "\n",
      "總結來說，天空是藍色的，是因為大氣中的微小粒子優先散射波長較短的藍色光，而人眼對藍光更敏感。\n"
     ]
    }
   ],
   "source": [
    "from google import genai\n",
    "from dotenv import load_dotenv\n",
    "import os\n",
    "load_dotenv()\n",
    "\n",
    "client = genai.Client(api_key=os.environ ['Gemini_API_KEY'])\n",
    "\n",
    "response = client.models.generate_content(\n",
    "    model=\"gemini-2.5-flash\", contents=\"天空為什麼是藍的？\",\n",
    ")\n",
    "print(response.text)"
   ]
  }
 ],
 "metadata": {
  "kernelspec": {
   "display_name": "myenv",
   "language": "python",
   "name": "python3"
  },
  "language_info": {
   "codemirror_mode": {
    "name": "ipython",
    "version": 3
   },
   "file_extension": ".py",
   "mimetype": "text/x-python",
   "name": "python",
   "nbconvert_exporter": "python",
   "pygments_lexer": "ipython3",
   "version": "3.10.16"
  }
 },
 "nbformat": 4,
 "nbformat_minor": 5
}
