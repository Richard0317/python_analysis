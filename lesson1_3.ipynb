{
  "nbformat": 4,
  "nbformat_minor": 0,
  "metadata": {
    "colab": {
      "provenance": [],
      "authorship_tag": "ABX9TyNQUjwEiO3ZptccdfW6YSnE",
      "include_colab_link": true
    },
    "kernelspec": {
      "name": "python3",
      "display_name": "Python 3"
    },
    "language_info": {
      "name": "python"
    }
  },
  "cells": [
    {
      "cell_type": "markdown",
      "metadata": {
        "id": "view-in-github",
        "colab_type": "text"
      },
      "source": [
        "<a href=\"https://colab.research.google.com/github/Richard0317/python_analysis/blob/main/lesson1_3.ipynb\" target=\"_parent\"><img src=\"https://colab.research.google.com/assets/colab-badge.svg\" alt=\"Open In Colab\"/></a>"
      ]
    },
    {
      "cell_type": "code",
      "execution_count": null,
      "metadata": {
        "colab": {
          "base_uri": "https://localhost:8080/"
        },
        "id": "FpfbEuQr-_zT",
        "outputId": "abd10f86-f5b5-491e-ed2c-bdcb84ac8863"
      },
      "outputs": [
        {
          "output_type": "stream",
          "name": "stdout",
          "text": [
            "這是python的第1節課\n"
          ]
        }
      ],
      "source": [
        "print(\"這是python的第1節課\")"
      ]
    },
    {
      "cell_type": "code",
      "source": [
        "Print(\"Say hello to python\")"
      ],
      "metadata": {
        "colab": {
          "base_uri": "https://localhost:8080/",
          "height": 141
        },
        "id": "Ph1RNwJnIU8Y",
        "outputId": "991e1373-4212-4e0f-9529-8228f8283445"
      },
      "execution_count": null,
      "outputs": [
        {
          "output_type": "error",
          "ename": "NameError",
          "evalue": "name 'Print' is not defined",
          "traceback": [
            "\u001b[0;31m---------------------------------------------------------------------------\u001b[0m",
            "\u001b[0;31mNameError\u001b[0m                                 Traceback (most recent call last)",
            "\u001b[0;32m<ipython-input-4-8df6743914dd>\u001b[0m in \u001b[0;36m<cell line: 0>\u001b[0;34m()\u001b[0m\n\u001b[0;32m----> 1\u001b[0;31m \u001b[0mPrint\u001b[0m\u001b[0;34m(\u001b[0m\u001b[0;34m\"Say hello to python\"\u001b[0m\u001b[0;34m)\u001b[0m\u001b[0;34m\u001b[0m\u001b[0;34m\u001b[0m\u001b[0m\n\u001b[0m",
            "\u001b[0;31mNameError\u001b[0m: name 'Print' is not defined"
          ]
        }
      ]
    },
    {
      "cell_type": "markdown",
      "source": [
        "# python的基本資料類型\n",
        "- int\n",
        "- float\n",
        "- str\n",
        "- bool"
      ],
      "metadata": {
        "id": "YF2KfEZNFdld"
      }
    },
    {
      "cell_type": "code",
      "source": [
        "10 #代表int\n",
        "10.0 #代表float\n",
        "\"10.0\" #代表str\n",
        "'10.0' #代表str\n",
        "True #代表bool\n",
        "False #代表bool"
      ],
      "metadata": {
        "colab": {
          "base_uri": "https://localhost:8080/"
        },
        "id": "Fq6G-LI1GJAT",
        "outputId": "4a519dd2-e57d-40c4-82d9-ba73b17a69dc"
      },
      "execution_count": null,
      "outputs": [
        {
          "output_type": "execute_result",
          "data": {
            "text/plain": [
              "False"
            ]
          },
          "metadata": {},
          "execution_count": 2
        }
      ]
    },
    {
      "cell_type": "code",
      "source": [
        "10 #代表int\n",
        "10.0 #代表float\n",
        "\"10.0\" #代表str\n",
        "'10.0' #代表str\n",
        "True #代表bool\n",
        "False #代表bool"
      ],
      "metadata": {
        "colab": {
          "base_uri": "https://localhost:8080/"
        },
        "id": "pZ4cfZgyH_ki",
        "outputId": "1969ec73-8e1f-43b2-f1f5-1e29f7598814"
      },
      "execution_count": null,
      "outputs": [
        {
          "output_type": "execute_result",
          "data": {
            "text/plain": [
              "False"
            ]
          },
          "metadata": {},
          "execution_count": 3
        }
      ]
    },
    {
      "cell_type": "markdown",
      "source": [
        "### 只有數值的類型可以做數學運算"
      ],
      "metadata": {
        "id": "tGg89sndNQ5N"
      }
    },
    {
      "cell_type": "code",
      "source": [
        "19 + 571\n",
        "19.0 + 571.0\n",
        "19 + 571.0 # int + float\n",
        "#\"19\" + 571.0 # 字串不可以加上數值\n",
        "\"19\" + \"571.0\""
      ],
      "metadata": {
        "colab": {
          "base_uri": "https://localhost:8080/",
          "height": 35
        },
        "id": "dK7m6Q2gMa18",
        "outputId": "28cc5add-466f-4809-a3d4-8dbfa62db142"
      },
      "execution_count": null,
      "outputs": [
        {
          "output_type": "execute_result",
          "data": {
            "text/plain": [
              "'19571.0'"
            ],
            "application/vnd.google.colaboratory.intrinsic+json": {
              "type": "string"
            }
          },
          "metadata": {},
          "execution_count": 6
        }
      ]
    },
    {
      "cell_type": "code",
      "source": [
        "print(19 + 571)\n",
        "print(19.0 + 571.0)\n",
        "print(19 + 571.0) # int + float\n",
        "#\"19\" + 571.0 # 字串不可以加上數值\n",
        "display(\"19\" + \"571.0\")"
      ],
      "metadata": {
        "colab": {
          "base_uri": "https://localhost:8080/",
          "height": 87
        },
        "id": "QxPs2mbZPBHS",
        "outputId": "e0b1c651-f962-4ccc-80a6-9228cf4e25ce"
      },
      "execution_count": null,
      "outputs": [
        {
          "output_type": "stream",
          "name": "stdout",
          "text": [
            "590\n",
            "590.0\n",
            "590.0\n"
          ]
        },
        {
          "output_type": "display_data",
          "data": {
            "text/plain": [
              "'19571.0'"
            ],
            "application/vnd.google.colaboratory.intrinsic+json": {
              "type": "string"
            }
          },
          "metadata": {}
        }
      ]
    },
    {
      "cell_type": "markdown",
      "source": [
        "### 使用print()顯示數字(沒有格式)\n",
        "### 使用display()顯示數字(格式)"
      ],
      "metadata": {
        "id": "d2mO6p0sPZYQ"
      }
    },
    {
      "cell_type": "code",
      "source": [
        "print(\"19\" + \"571.0\")"
      ],
      "metadata": {
        "colab": {
          "base_uri": "https://localhost:8080/"
        },
        "id": "ZeLVN_qdPSNC",
        "outputId": "0c517d85-f99b-4b91-a341-3daeeba78243"
      },
      "execution_count": null,
      "outputs": [
        {
          "output_type": "stream",
          "name": "stdout",
          "text": [
            "19571.0\n"
          ]
        }
      ]
    },
    {
      "cell_type": "code",
      "source": [
        "5 + 8\n",
        "90 - 10\n",
        "4 * 7\n",
        "7 / 2 #浮點數除法\n",
        "7 // 2 #整數除法\n",
        "7 % 2 #餘數\n",
        "3 ** 4 #次方"
      ],
      "metadata": {
        "colab": {
          "base_uri": "https://localhost:8080/"
        },
        "id": "vQzFkl9jRDXA",
        "outputId": "9f795a51-5b89-45be-d6ff-36fd7f6ede21"
      },
      "execution_count": null,
      "outputs": [
        {
          "output_type": "execute_result",
          "data": {
            "text/plain": [
              "81"
            ]
          },
          "metadata": {},
          "execution_count": 17
        }
      ]
    },
    {
      "cell_type": "code",
      "source": [
        "99 ** 99"
      ],
      "metadata": {
        "colab": {
          "base_uri": "https://localhost:8080/"
        },
        "id": "VLWq0HGiR1DQ",
        "outputId": "07318981-6bca-46e3-e508-d69048abea5d"
      },
      "execution_count": null,
      "outputs": [
        {
          "output_type": "execute_result",
          "data": {
            "text/plain": [
              "369729637649726772657187905628805440595668764281741102430259972423552570455277523421410650010128232727940978889548326540119429996769494359451621570193644014418071060667659301384999779999159200499899"
            ]
          },
          "metadata": {},
          "execution_count": 18
        }
      ]
    },
    {
      "cell_type": "markdown",
      "source": [
        "### 一個運算子做1個動作\n",
        "### 數學運算子有優先順序"
      ],
      "metadata": {
        "id": "gZCVKouPUHCP"
      }
    },
    {
      "cell_type": "code",
      "source": [
        "print(2 + 3 * 4)\n",
        "print((2 + 3) * 4)\n",
        "print(2 * (1 + 2) ** 2 -2 ** 2 *2)"
      ],
      "metadata": {
        "colab": {
          "base_uri": "https://localhost:8080/"
        },
        "id": "eVdvZC5gTpIO",
        "outputId": "1f4f9813-442d-4f58-9d54-06bb090ebe67"
      },
      "execution_count": null,
      "outputs": [
        {
          "output_type": "stream",
          "name": "stdout",
          "text": [
            "14\n",
            "20\n",
            "10\n"
          ]
        }
      ]
    },
    {
      "cell_type": "code",
      "source": [
        "print(15, 27.0, 'Hello', True, 3 ** 4)"
      ],
      "metadata": {
        "colab": {
          "base_uri": "https://localhost:8080/"
        },
        "id": "n2B8AF8-YL2R",
        "outputId": "f8453722-8a62-451f-a587-11462447903a"
      },
      "execution_count": null,
      "outputs": [
        {
          "output_type": "stream",
          "name": "stdout",
          "text": [
            "15 27.0 Hello True 81\n"
          ]
        }
      ]
    },
    {
      "cell_type": "markdown",
      "source": [
        "### 內建的function(功能;函式)\n",
        "### print()"
      ],
      "metadata": {
        "id": "_dCZCTRYY3uf"
      }
    },
    {
      "cell_type": "code",
      "source": [
        "print(round(56.589))\n",
        "print(round(56.589,ndigits=1))\n",
        "print(round(56.589,ndigits=2))"
      ],
      "metadata": {
        "colab": {
          "base_uri": "https://localhost:8080/"
        },
        "id": "pDyRNS8IYY2P",
        "outputId": "5e4534f6-b32b-4b75-9e30-278b8cb2ff39"
      },
      "execution_count": null,
      "outputs": [
        {
          "output_type": "stream",
          "name": "stdout",
          "text": [
            "57\n",
            "56.6\n",
            "56.59\n"
          ]
        }
      ]
    },
    {
      "cell_type": "code",
      "source": [
        "round(0.5)\n",
        "round(0.6)"
      ],
      "metadata": {
        "colab": {
          "base_uri": "https://localhost:8080/"
        },
        "id": "ud4G4NPkhThH",
        "outputId": "f36a1681-2dca-4e42-801b-98a38cbaacf7"
      },
      "execution_count": null,
      "outputs": [
        {
          "output_type": "execute_result",
          "data": {
            "text/plain": [
              "1"
            ]
          },
          "metadata": {},
          "execution_count": 24
        }
      ]
    }
  ]
}